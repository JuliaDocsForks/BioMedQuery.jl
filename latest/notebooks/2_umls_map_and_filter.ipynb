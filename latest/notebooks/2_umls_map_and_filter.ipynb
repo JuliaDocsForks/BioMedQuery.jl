{
 "cells": [
  {
   "outputs": [],
   "cell_type": "markdown",
   "source": [
    "# Using UMLS Concepts with MeSH"
   ],
   "metadata": {}
  },
  {
   "outputs": [],
   "cell_type": "markdown",
   "source": [
    "The Medical Subject Headings (MeSH) terms returned from a PubMed search can be further analyzed\n",
    "by mapping them to Unified Medical Language System (UMLS) concepts, as well as\n",
    "filtering the MeSH Terms by concepts."
   ],
   "metadata": {}
  },
  {
   "outputs": [],
   "cell_type": "markdown",
   "source": [
    "For both mapping MeSH to UMLS Concepts and filtering MeSH by concept, the following backends are supported:\n",
    "* MySQL\n",
    "* SQLite\n",
    "* DataFrames"
   ],
   "metadata": {}
  },
  {
   "outputs": [],
   "cell_type": "markdown",
   "source": [
    "### Set Up"
   ],
   "metadata": {}
  },
  {
   "outputs": [],
   "cell_type": "code",
   "source": [
    "using SQLite\n",
    "using MySQL\n",
    "using BioMedQuery.DBUtils\n",
    "using BioMedQuery.Processes\n",
    "using BioServices.UMLS\n",
    "using BioMedQuery.PubMed\n",
    "using DataFrames"
   ],
   "metadata": {},
   "execution_count": 1
  },
  {
   "outputs": [],
   "cell_type": "markdown",
   "source": [
    "Credentials are environment variables (e.g set in your .juliarc.jl)"
   ],
   "metadata": {}
  },
  {
   "outputs": [],
   "cell_type": "code",
   "source": [
    "umls_user = ENV[\"UMLS_USER\"];\n",
    "umls_pswd = ENV[\"UMLS_PSSWD\"];\n",
    "email = \"\"; # Only needed if you want to contact NCBI with inqueries\n",
    "search_term = \"\"\"(obesity[MeSH Major Topic]) AND (\"2010\"[Date - Publication] : \"2012\"[Date - Publication])\"\"\";\n",
    "umls_concept = \"Disease or Syndrome\";\n",
    "max_articles = 5;\n",
    "results_dir = \".\";\n",
    "verbose = true;\n",
    "\n",
    "results_dir = \".\";"
   ],
   "metadata": {},
   "execution_count": 2
  },
  {
   "outputs": [],
   "cell_type": "markdown",
   "source": [
    "## MySQL"
   ],
   "metadata": {}
  },
  {
   "outputs": [],
   "cell_type": "markdown",
   "source": [
    "### Map Medical Subject Headings (MeSH) to UMLS"
   ],
   "metadata": {}
  },
  {
   "outputs": [],
   "cell_type": "markdown",
   "source": [
    "This example demonstrates the typical workflow to populate a MESH2UMLS database\n",
    "table relating all concepts associated with all MeSH terms in the input database."
   ],
   "metadata": {}
  },
  {
   "outputs": [],
   "cell_type": "markdown",
   "source": [
    "*Note: this example reuses the MySQL DB from the PubMed Search and Save example.*\n",
    "\n",
    "Create MySQL DB connection"
   ],
   "metadata": {}
  },
  {
   "outputs": [],
   "cell_type": "code",
   "source": [
    "host = \"127.0.0.1\";\n",
    "mysql_usr = \"root\";\n",
    "mysql_pswd = \"\";\n",
    "dbname = \"pubmed_obesity_2010_2012\";\n",
    "\n",
    "db_mysql = MySQL.connect(host, mysql_usr, mysql_pswd, db = dbname);"
   ],
   "metadata": {},
   "execution_count": 3
  },
  {
   "outputs": [],
   "cell_type": "markdown",
   "source": [
    "Map MeSH to UMLS"
   ],
   "metadata": {}
  },
  {
   "outputs": [
    {
     "name": "stdout",
     "output_type": "stream",
     "text": [
      "----------Matching MESH to UMLS-----------\n",
      "[\"Adult\", \"Aged\", \"Aged, 80 and over\", \"Analysis of Variance\", \"Body Weight\", \"C-Reactive Protein\", \"Child\", \"Cross-Sectional Studies\", \"Fatigue\", \"Female\", \"Fibromyalgia\", \"Germany\", \"Health Status\", \"Humans\", \"Japan\", \"Male\", \"Middle Aged\", \"Nutrition Surveys\", \"Obesity\", \"Pain\", \"Pain Measurement\", \"Physical Fitness\", \"Prognosis\", \"Quality of Life\", \"Surveys and Questionnaires\", \"Reference Values\", \"Risk Factors\", \"ROC Curve\", \"Severity of Illness Index\", \"Sports\", \"Television\", \"Thyrotropin\", \"Biomarkers\", \"Weight Gain\", \"Exercise\", \"Body Mass Index\", \"Incidence\", \"Prevalence\", \"Logistic Models\", \"Odds Ratio\", \"Case-Control Studies\", \"Age Distribution\", \"Sex Distribution\", \"Sleep Apnea, Obstructive\", \"Metabolic Syndrome\", \"Overweight\", \"Waist Circumference\", \"Young Adult\", \"Obesity, Abdominal\", \"Republic of Korea\", \"Sedentary Lifestyle\", \"Pediatric Obesity\"]\n",
      "┌ Info: UTS: Requesting new TGT\n",
      "└ @ BioServices.UMLS /home/travis/.julia/packages/BioServices/SBqd5/src/umls.jl:129\n",
      "┌ Info: Descriptor 1 out of 52: Adult\n",
      "└ @ BioMedQuery.Processes /home/travis/build/bcbi/BioMedQuery.jl/src/Processes/pubmed_mesh_to_umls_map.jl:66\n",
      "┌ Info: Descriptor 13 out of 52: Health Status\n",
      "└ @ BioMedQuery.Processes /home/travis/build/bcbi/BioMedQuery.jl/src/Processes/pubmed_mesh_to_umls_map.jl:66\n",
      "┌ Info: Descriptor 15 out of 52: Japan\n",
      "└ @ BioMedQuery.Processes /home/travis/build/bcbi/BioMedQuery.jl/src/Processes/pubmed_mesh_to_umls_map.jl:66\n",
      "┌ Info: Descriptor 2 out of 52: Aged\n",
      "└ @ BioMedQuery.Processes /home/travis/build/bcbi/BioMedQuery.jl/src/Processes/pubmed_mesh_to_umls_map.jl:66\n",
      "┌ Info: Descriptor 16 out of 52: Male\n",
      "└ @ BioMedQuery.Processes /home/travis/build/bcbi/BioMedQuery.jl/src/Processes/pubmed_mesh_to_umls_map.jl:66\n",
      "┌ Info: Descriptor 27 out of 52: Risk Factors\n",
      "└ @ BioMedQuery.Processes /home/travis/build/bcbi/BioMedQuery.jl/src/Processes/pubmed_mesh_to_umls_map.jl:66\n",
      "┌ Info: Descriptor 24 out of 52: Quality of Life\n",
      "└ @ BioMedQuery.Processes /home/travis/build/bcbi/BioMedQuery.jl/src/Processes/pubmed_mesh_to_umls_map.jl:66\n",
      "┌ Info: Descriptor 21 out of 52: Pain Measurement\n",
      "└ @ BioMedQuery.Processes /home/travis/build/bcbi/BioMedQuery.jl/src/Processes/pubmed_mesh_to_umls_map.jl:66\n",
      "┌ Info: Descriptor 30 out of 52: Sports\n",
      "└ @ BioMedQuery.Processes /home/travis/build/bcbi/BioMedQuery.jl/src/Processes/pubmed_mesh_to_umls_map.jl:66\n",
      "┌ Info: Descriptor 35 out of 52: Exercise\n",
      "└ @ BioMedQuery.Processes /home/travis/build/bcbi/BioMedQuery.jl/src/Processes/pubmed_mesh_to_umls_map.jl:66\n",
      "┌ Info: Descriptor 32 out of 52: Thyrotropin\n",
      "└ @ BioMedQuery.Processes /home/travis/build/bcbi/BioMedQuery.jl/src/Processes/pubmed_mesh_to_umls_map.jl:66\n",
      "┌ Info: Descriptor 34 out of 52: Weight Gain\n",
      "└ @ BioMedQuery.Processes /home/travis/build/bcbi/BioMedQuery.jl/src/Processes/pubmed_mesh_to_umls_map.jl:66\n",
      "┌ Info: Descriptor 25 out of 52: Surveys and Questionnaires\n",
      "└ @ BioMedQuery.Processes /home/travis/build/bcbi/BioMedQuery.jl/src/Processes/pubmed_mesh_to_umls_map.jl:66\n",
      "┌ Info: Descriptor 23 out of 52: Prognosis\n",
      "└ @ BioMedQuery.Processes /home/travis/build/bcbi/BioMedQuery.jl/src/Processes/pubmed_mesh_to_umls_map.jl:66\n",
      "┌ Info: Descriptor 28 out of 52: ROC Curve\n",
      "└ @ BioMedQuery.Processes /home/travis/build/bcbi/BioMedQuery.jl/src/Processes/pubmed_mesh_to_umls_map.jl:66\n",
      "┌ Info: Descriptor 26 out of 52: Reference Values\n",
      "└ @ BioMedQuery.Processes /home/travis/build/bcbi/BioMedQuery.jl/src/Processes/pubmed_mesh_to_umls_map.jl:66\n",
      "┌ Info: Descriptor 7 out of 52: Child\n",
      "└ @ BioMedQuery.Processes /home/travis/build/bcbi/BioMedQuery.jl/src/Processes/pubmed_mesh_to_umls_map.jl:66\n",
      "┌ Info: Descriptor 10 out of 52: Female\n",
      "└ @ BioMedQuery.Processes /home/travis/build/bcbi/BioMedQuery.jl/src/Processes/pubmed_mesh_to_umls_map.jl:66\n",
      "┌ Info: Descriptor 11 out of 52: Fibromyalgia\n",
      "└ @ BioMedQuery.Processes /home/travis/build/bcbi/BioMedQuery.jl/src/Processes/pubmed_mesh_to_umls_map.jl:66\n",
      "┌ Info: Descriptor 8 out of 52: Cross-Sectional Studies\n",
      "└ @ BioMedQuery.Processes /home/travis/build/bcbi/BioMedQuery.jl/src/Processes/pubmed_mesh_to_umls_map.jl:66\n",
      "┌ Info: Descriptor 9 out of 52: Fatigue\n",
      "└ @ BioMedQuery.Processes /home/travis/build/bcbi/BioMedQuery.jl/src/Processes/pubmed_mesh_to_umls_map.jl:66\n",
      "┌ Info: Descriptor 12 out of 52: Germany\n",
      "└ @ BioMedQuery.Processes /home/travis/build/bcbi/BioMedQuery.jl/src/Processes/pubmed_mesh_to_umls_map.jl:66\n",
      "┌ Info: Descriptor 14 out of 52: Humans\n",
      "└ @ BioMedQuery.Processes /home/travis/build/bcbi/BioMedQuery.jl/src/Processes/pubmed_mesh_to_umls_map.jl:66\n",
      "┌ Info: Descriptor 37 out of 52: Incidence\n",
      "└ @ BioMedQuery.Processes /home/travis/build/bcbi/BioMedQuery.jl/src/Processes/pubmed_mesh_to_umls_map.jl:66\n",
      "┌ Info: Descriptor 39 out of 52: Logistic Models\n",
      "└ @ BioMedQuery.Processes /home/travis/build/bcbi/BioMedQuery.jl/src/Processes/pubmed_mesh_to_umls_map.jl:66\n",
      "┌ Info: Descriptor 41 out of 52: Case-Control Studies\n",
      "└ @ BioMedQuery.Processes /home/travis/build/bcbi/BioMedQuery.jl/src/Processes/pubmed_mesh_to_umls_map.jl:66\n",
      "┌ Info: Descriptor 42 out of 52: Age Distribution\n",
      "└ @ BioMedQuery.Processes /home/travis/build/bcbi/BioMedQuery.jl/src/Processes/pubmed_mesh_to_umls_map.jl:66\n",
      "┌ Info: Descriptor 43 out of 52: Sex Distribution\n",
      "└ @ BioMedQuery.Processes /home/travis/build/bcbi/BioMedQuery.jl/src/Processes/pubmed_mesh_to_umls_map.jl:66\n",
      "┌ Info: Descriptor 20 out of 52: Pain\n",
      "└ @ BioMedQuery.Processes /home/travis/build/bcbi/BioMedQuery.jl/src/Processes/pubmed_mesh_to_umls_map.jl:66\n",
      "┌ Info: Descriptor 46 out of 52: Overweight\n",
      "└ @ BioMedQuery.Processes /home/travis/build/bcbi/BioMedQuery.jl/src/Processes/pubmed_mesh_to_umls_map.jl:66\n",
      "┌ Info: Descriptor 50 out of 52: Republic of Korea\n",
      "└ @ BioMedQuery.Processes /home/travis/build/bcbi/BioMedQuery.jl/src/Processes/pubmed_mesh_to_umls_map.jl:66\n",
      "┌ Info: Descriptor 48 out of 52: Young Adult\n",
      "└ @ BioMedQuery.Processes /home/travis/build/bcbi/BioMedQuery.jl/src/Processes/pubmed_mesh_to_umls_map.jl:66\n",
      "┌ Info: Descriptor 44 out of 52: Sleep Apnea, Obstructive\n",
      "└ @ BioMedQuery.Processes /home/travis/build/bcbi/BioMedQuery.jl/src/Processes/pubmed_mesh_to_umls_map.jl:66\n",
      "┌ Info: Descriptor 19 out of 52: Obesity\n",
      "└ @ BioMedQuery.Processes /home/travis/build/bcbi/BioMedQuery.jl/src/Processes/pubmed_mesh_to_umls_map.jl:66\n",
      "┌ Info: Descriptor 51 out of 52: Sedentary Lifestyle\n",
      "└ @ BioMedQuery.Processes /home/travis/build/bcbi/BioMedQuery.jl/src/Processes/pubmed_mesh_to_umls_map.jl:66\n",
      "┌ Info: Descriptor 47 out of 52: Waist Circumference\n",
      "└ @ BioMedQuery.Processes /home/travis/build/bcbi/BioMedQuery.jl/src/Processes/pubmed_mesh_to_umls_map.jl:66\n",
      "┌ Info: Descriptor 22 out of 52: Physical Fitness\n",
      "└ @ BioMedQuery.Processes /home/travis/build/bcbi/BioMedQuery.jl/src/Processes/pubmed_mesh_to_umls_map.jl:66\n",
      "┌ Info: Descriptor 17 out of 52: Middle Aged\n",
      "└ @ BioMedQuery.Processes /home/travis/build/bcbi/BioMedQuery.jl/src/Processes/pubmed_mesh_to_umls_map.jl:66\n",
      "┌ Info: Descriptor 33 out of 52: Biomarkers\n",
      "└ @ BioMedQuery.Processes /home/travis/build/bcbi/BioMedQuery.jl/src/Processes/pubmed_mesh_to_umls_map.jl:66\n",
      "┌ Info: Descriptor 5 out of 52: Body Weight\n",
      "└ @ BioMedQuery.Processes /home/travis/build/bcbi/BioMedQuery.jl/src/Processes/pubmed_mesh_to_umls_map.jl:66\n",
      "┌ Info: Descriptor 40 out of 52: Odds Ratio\n",
      "└ @ BioMedQuery.Processes /home/travis/build/bcbi/BioMedQuery.jl/src/Processes/pubmed_mesh_to_umls_map.jl:66\n",
      "┌ Info: Descriptor 31 out of 52: Television\n",
      "└ @ BioMedQuery.Processes /home/travis/build/bcbi/BioMedQuery.jl/src/Processes/pubmed_mesh_to_umls_map.jl:66\n",
      "┌ Info: Descriptor 3 out of 52: Aged, 80 and over\n",
      "└ @ BioMedQuery.Processes /home/travis/build/bcbi/BioMedQuery.jl/src/Processes/pubmed_mesh_to_umls_map.jl:66\n",
      "┌ Info: Descriptor 29 out of 52: Severity of Illness Index\n",
      "└ @ BioMedQuery.Processes /home/travis/build/bcbi/BioMedQuery.jl/src/Processes/pubmed_mesh_to_umls_map.jl:66\n",
      "┌ Info: Descriptor 4 out of 52: Analysis of Variance\n",
      "└ @ BioMedQuery.Processes /home/travis/build/bcbi/BioMedQuery.jl/src/Processes/pubmed_mesh_to_umls_map.jl:66\n",
      "┌ Info: Descriptor 38 out of 52: Prevalence\n",
      "└ @ BioMedQuery.Processes /home/travis/build/bcbi/BioMedQuery.jl/src/Processes/pubmed_mesh_to_umls_map.jl:66\n",
      "┌ Info: Descriptor 18 out of 52: Nutrition Surveys\n",
      "└ @ BioMedQuery.Processes /home/travis/build/bcbi/BioMedQuery.jl/src/Processes/pubmed_mesh_to_umls_map.jl:66\n",
      "┌ Info: Descriptor 49 out of 52: Obesity, Abdominal\n",
      "└ @ BioMedQuery.Processes /home/travis/build/bcbi/BioMedQuery.jl/src/Processes/pubmed_mesh_to_umls_map.jl:66\n",
      "┌ Info: Descriptor 36 out of 52: Body Mass Index\n",
      "└ @ BioMedQuery.Processes /home/travis/build/bcbi/BioMedQuery.jl/src/Processes/pubmed_mesh_to_umls_map.jl:66\n",
      "┌ Info: Descriptor 6 out of 52: C-Reactive Protein\n",
      "└ @ BioMedQuery.Processes /home/travis/build/bcbi/BioMedQuery.jl/src/Processes/pubmed_mesh_to_umls_map.jl:66\n",
      "┌ Info: Descriptor 45 out of 52: Metabolic Syndrome\n",
      "└ @ BioMedQuery.Processes /home/travis/build/bcbi/BioMedQuery.jl/src/Processes/pubmed_mesh_to_umls_map.jl:66\n",
      "┌ Info: Descriptor 51 out of 52: Sedentary Lifestyle\n",
      "└ @ BioMedQuery.Processes /home/travis/build/bcbi/BioMedQuery.jl/src/Processes/pubmed_mesh_to_umls_map.jl:66\n",
      "┌ Info: Descriptor 52 out of 52: Pediatric Obesity\n",
      "└ @ BioMedQuery.Processes /home/travis/build/bcbi/BioMedQuery.jl/src/Processes/pubmed_mesh_to_umls_map.jl:66\n",
      " 88.790568 seconds (11.00 M allocations: 550.053 MiB, 0.40% gc time)\n"
     ]
    }
   ],
   "cell_type": "code",
   "source": [
    "@time map_mesh_to_umls_async!(db_mysql, umls_user, umls_pswd; append_results=false, timeout=3);"
   ],
   "metadata": {},
   "execution_count": 4
  },
  {
   "outputs": [],
   "cell_type": "markdown",
   "source": [
    "#### Explore the output table"
   ],
   "metadata": {}
  },
  {
   "outputs": [
    {
     "output_type": "execute_result",
     "data": {
      "text/plain": "56×2 DataFrames.DataFrame\n│ Row │ mesh                       │ umls                            │\n├─────┼────────────────────────────┼─────────────────────────────────┤\n│ 1   │ Adult                      │ Age Group                       │\n│ 2   │ Age Distribution           │ Quantitative Concept            │\n│ 3   │ Aged                       │ Organism Attribute              │\n│ 4   │ Aged, 80 and over          │ Age Group                       │\n│ 5   │ Analysis of Variance       │ Quantitative Concept            │\n│ 6   │ Biomarkers                 │ Clinical Attribute              │\n│ 7   │ Body Mass Index            │ Diagnostic Procedure            │\n│ 8   │ Body Weight                │ Organism Attribute              │\n⋮\n│ 48  │ Sports                     │ Daily or Recreational Activity  │\n│ 49  │ Surveys and Questionnaires │ Research Activity               │\n│ 50  │ Television                 │ Manufactured Object             │\n│ 51  │ Thyrotropin                │ Amino Acid, Peptide, or Protein │\n│ 52  │ Thyrotropin                │ Hormone                         │\n│ 53  │ Thyrotropin                │ Pharmacologic Substance         │\n│ 54  │ Waist Circumference        │ Clinical Attribute              │\n│ 55  │ Weight Gain                │ Finding                         │\n│ 56  │ Young Adult                │ Age Group                       │",
      "text/html": [
       "<table class=\"data-frame\"><thead><tr><th></th><th>mesh</th><th>umls</th></tr></thead><tbody><tr><th>1</th><td>Adult</td><td>Age Group</td></tr><tr><th>2</th><td>Age Distribution</td><td>Quantitative Concept</td></tr><tr><th>3</th><td>Aged</td><td>Organism Attribute</td></tr><tr><th>4</th><td>Aged, 80 and over</td><td>Age Group</td></tr><tr><th>5</th><td>Analysis of Variance</td><td>Quantitative Concept</td></tr><tr><th>6</th><td>Biomarkers</td><td>Clinical Attribute</td></tr><tr><th>7</th><td>Body Mass Index</td><td>Diagnostic Procedure</td></tr><tr><th>8</th><td>Body Weight</td><td>Organism Attribute</td></tr><tr><th>9</th><td>C-Reactive Protein</td><td>Amino Acid, Peptide, or Protein</td></tr><tr><th>10</th><td>C-Reactive Protein</td><td>Immunologic Factor</td></tr><tr><th>11</th><td>Case-Control Studies</td><td>Research Activity</td></tr><tr><th>12</th><td>Child</td><td>Age Group</td></tr><tr><th>13</th><td>Cross-Sectional Studies</td><td>Research Activity</td></tr><tr><th>14</th><td>Exercise</td><td>Daily or Recreational Activity</td></tr><tr><th>15</th><td>Fatigue</td><td>Sign or Symptom</td></tr><tr><th>16</th><td>Female</td><td>Population Group</td></tr><tr><th>17</th><td>Fibromyalgia</td><td>Disease or Syndrome</td></tr><tr><th>18</th><td>Germany</td><td>Geographic Area</td></tr><tr><th>19</th><td>Health Status</td><td>Qualitative Concept</td></tr><tr><th>20</th><td>Humans</td><td>Human</td></tr><tr><th>21</th><td>Incidence</td><td>Quantitative Concept</td></tr><tr><th>22</th><td>Japan</td><td>Geographic Area</td></tr><tr><th>23</th><td>Logistic Models</td><td>Intellectual Product</td></tr><tr><th>24</th><td>Logistic Models</td><td>Quantitative Concept</td></tr><tr><th>&vellip;</th><td>&vellip;</td><td>&vellip;</td></tr></tbody></table>"
      ]
     },
     "metadata": {},
     "execution_count": 5
    }
   ],
   "cell_type": "code",
   "source": [
    "db_query(db_mysql, \"SELECT * FROM mesh2umls\")"
   ],
   "metadata": {},
   "execution_count": 5
  },
  {
   "outputs": [],
   "cell_type": "markdown",
   "source": [
    "### Filtering MeSH terms by UMLS concept"
   ],
   "metadata": {}
  },
  {
   "outputs": [],
   "cell_type": "markdown",
   "source": [
    "Getting the descriptor to index dictionary and the occurence matrix"
   ],
   "metadata": {}
  },
  {
   "outputs": [
    {
     "name": "stdout",
     "output_type": "stream",
     "text": [
      "Filter mesh query string : SELECT mesh FROM mesh2umls WHERE umls IN ('Disease or Syndrome')\n",
      "-------------------------------------------------------------\n",
      "Found 5 articles with valid descriptors\n",
      "-------------------------------------------------------------\n",
      "  1.164387 seconds (1.80 M allocations: 91.600 MiB, 2.93% gc time)\n"
     ]
    }
   ],
   "cell_type": "code",
   "source": [
    "@time labels2ind, occur = umls_semantic_occurrences(db_mysql, umls_concept);"
   ],
   "metadata": {},
   "execution_count": 6
  },
  {
   "outputs": [],
   "cell_type": "markdown",
   "source": [
    "Descriptor to Index Dictionary"
   ],
   "metadata": {}
  },
  {
   "outputs": [
    {
     "output_type": "execute_result",
     "data": {
      "text/plain": "Dict{String,Int64} with 5 entries:\n  \"Obesity\"                  => 1\n  \"Pediatric Obesity\"        => 2\n  \"Sleep Apnea, Obstructive\" => 3\n  \"Metabolic Syndrome\"       => 4\n  \"Fibromyalgia\"             => 5"
     },
     "metadata": {},
     "execution_count": 7
    }
   ],
   "cell_type": "code",
   "source": [
    "labels2ind"
   ],
   "metadata": {},
   "execution_count": 7
  },
  {
   "outputs": [],
   "cell_type": "markdown",
   "source": [
    "Output Data Matrix"
   ],
   "metadata": {}
  },
  {
   "outputs": [
    {
     "name": "stdout",
     "output_type": "stream",
     "text": [
      "┌ Warning: `full(S::SparseMatrixCSC)` (and `full` in general) has been deprecated. To replace `full(S::SparseMatrixCSC)`, consider `Matrix(S)` or, if that option is too narrow, `Array(S)`.\n",
      "│   caller = top-level scope at none:0\n",
      "└ @ Core none:0\n"
     ]
    },
    {
     "output_type": "execute_result",
     "data": {
      "text/plain": "5×5 Array{Float64,2}:\n 1.0  1.0  0.0  1.0  0.0\n 0.0  0.0  1.0  0.0  0.0\n 0.0  1.0  0.0  0.0  0.0\n 0.0  0.0  0.0  0.0  1.0\n 1.0  0.0  0.0  0.0  0.0"
     },
     "metadata": {},
     "execution_count": 8
    }
   ],
   "cell_type": "code",
   "source": [
    "full(occur)"
   ],
   "metadata": {},
   "execution_count": 8
  },
  {
   "outputs": [],
   "cell_type": "markdown",
   "source": [
    "## SQLite"
   ],
   "metadata": {}
  },
  {
   "outputs": [],
   "cell_type": "markdown",
   "source": [
    "This example demonstrates the typical workflow to populate a MESH2UMLS database\n",
    "table relating all concepts associated with all MeSH terms in the input database."
   ],
   "metadata": {}
  },
  {
   "outputs": [],
   "cell_type": "markdown",
   "source": [
    "*Note: this example reuses the SQLite DB from the PubMed Search and Save example.*\n",
    "\n",
    "Create SQLite DB connection"
   ],
   "metadata": {}
  },
  {
   "outputs": [
    {
     "name": "stdout",
     "output_type": "stream",
     "text": [
      "Getting 5 articles, starting at index 0\n",
      "------ESearch--------\n",
      "------EFetch--------\n",
      "------Save to database--------\n",
      "Saving 5 articles to database\n",
      "Finished searching, total number of articles: 5\n"
     ]
    }
   ],
   "cell_type": "code",
   "source": [
    "db_path = \"$(results_dir)/pubmed_obesity_2010_2012.db\";\n",
    "db_sqlite = SQLite.DB(db_path);\n",
    "\n",
    "if isfile(db_path) # hide\n",
    "    rm(db_path) # hide\n",
    "end # hide\n",
    "db_sqlite = SQLite.DB(db_path); # hide\n",
    "PubMed.create_tables!(db_sqlite); # hide\n",
    "Processes.pubmed_search_and_save!(email, search_term, max_articles, db_sqlite, false) # hide"
   ],
   "metadata": {},
   "execution_count": 9
  },
  {
   "outputs": [],
   "cell_type": "markdown",
   "source": [
    "### Map MeSH to UMLS"
   ],
   "metadata": {}
  },
  {
   "outputs": [
    {
     "name": "stdout",
     "output_type": "stream",
     "text": [
      "----------Matching MESH to UMLS-----------\n",
      "Union{Missing, String}[\"Reference Values\", \"Republic of Korea\", \"ROC Curve\", \"Fatigue\", \"Obesity\", \"Risk Factors\", \"Logistic Models\", \"Severity of Illness Index\", \"Male\", \"Case-Control Studies\", \"Analysis of Variance\", \"Sedentary Lifestyle\", \"Prevalence\", \"Quality of Life\", \"Odds Ratio\", \"Exercise\", \"Body Mass Index\", \"Aged\", \"Child\", \"Sex Distribution\", \"Adult\", \"Germany\", \"Sports\", \"Thyrotropin\", \"Pediatric Obesity\", \"Humans\", \"Japan\", \"Cross-Sectional Studies\", \"Weight Gain\", \"Middle Aged\", \"Surveys and Questionnaires\", \"Health Status\", \"Young Adult\", \"Incidence\", \"Prognosis\", \"Body Weight\", \"Pain Measurement\", \"Waist Circumference\", \"Metabolic Syndrome\", \"Pain\", \"Nutrition Surveys\", \"Fibromyalgia\", \"Sleep Apnea, Obstructive\", \"Television\", \"Age Distribution\", \"Overweight\", \"Physical Fitness\", \"Female\", \"Biomarkers\", \"Obesity, Abdominal\", \"C-Reactive Protein\", \"Aged, 80 and over\"]\n",
      "┌ Info: UTS: Reading TGT from file\n",
      "└ @ BioServices.UMLS /home/travis/.julia/packages/BioServices/SBqd5/src/umls.jl:125\n",
      "┌ Info: Descriptor 3 out of 52: ROC Curve\n",
      "└ @ BioMedQuery.Processes /home/travis/build/bcbi/BioMedQuery.jl/src/Processes/pubmed_mesh_to_umls_map.jl:66\n",
      "┌ Info: Descriptor 8 out of 52: Severity of Illness Index\n",
      "└ @ BioMedQuery.Processes /home/travis/build/bcbi/BioMedQuery.jl/src/Processes/pubmed_mesh_to_umls_map.jl:66\n",
      "┌ Info: Descriptor 12 out of 52: Sedentary Lifestyle\n",
      "└ @ BioMedQuery.Processes /home/travis/build/bcbi/BioMedQuery.jl/src/Processes/pubmed_mesh_to_umls_map.jl:66\n",
      "┌ Info: Descriptor 14 out of 52: Quality of Life\n",
      "└ @ BioMedQuery.Processes /home/travis/build/bcbi/BioMedQuery.jl/src/Processes/pubmed_mesh_to_umls_map.jl:66\n",
      "┌ Info: Descriptor 7 out of 52: Logistic Models\n",
      "└ @ BioMedQuery.Processes /home/travis/build/bcbi/BioMedQuery.jl/src/Processes/pubmed_mesh_to_umls_map.jl:66\n",
      "┌ Info: Descriptor 5 out of 52: Obesity\n",
      "└ @ BioMedQuery.Processes /home/travis/build/bcbi/BioMedQuery.jl/src/Processes/pubmed_mesh_to_umls_map.jl:66\n",
      "┌ Info: Descriptor 31 out of 52: Surveys and Questionnaires\n",
      "└ @ BioMedQuery.Processes /home/travis/build/bcbi/BioMedQuery.jl/src/Processes/pubmed_mesh_to_umls_map.jl:66\n",
      "┌ Info: Descriptor 27 out of 52: Japan\n",
      "└ @ BioMedQuery.Processes /home/travis/build/bcbi/BioMedQuery.jl/src/Processes/pubmed_mesh_to_umls_map.jl:66\n",
      "┌ Info: Descriptor 15 out of 52: Odds Ratio\n",
      "└ @ BioMedQuery.Processes /home/travis/build/bcbi/BioMedQuery.jl/src/Processes/pubmed_mesh_to_umls_map.jl:66\n",
      "┌ Info: Descriptor 20 out of 52: Sex Distribution\n",
      "└ @ BioMedQuery.Processes /home/travis/build/bcbi/BioMedQuery.jl/src/Processes/pubmed_mesh_to_umls_map.jl:66\n",
      "┌ Info: Descriptor 4 out of 52: Fatigue\n",
      "└ @ BioMedQuery.Processes /home/travis/build/bcbi/BioMedQuery.jl/src/Processes/pubmed_mesh_to_umls_map.jl:66\n",
      "┌ Info: Descriptor 21 out of 52: Adult\n",
      "└ @ BioMedQuery.Processes /home/travis/build/bcbi/BioMedQuery.jl/src/Processes/pubmed_mesh_to_umls_map.jl:66\n",
      "┌ Info: Descriptor 24 out of 52: Thyrotropin\n",
      "└ @ BioMedQuery.Processes /home/travis/build/bcbi/BioMedQuery.jl/src/Processes/pubmed_mesh_to_umls_map.jl:66\n",
      "┌ Info: Descriptor 17 out of 52: Body Mass Index\n",
      "└ @ BioMedQuery.Processes /home/travis/build/bcbi/BioMedQuery.jl/src/Processes/pubmed_mesh_to_umls_map.jl:66\n",
      "┌ Info: Descriptor 1 out of 52: Reference Values\n",
      "└ @ BioMedQuery.Processes /home/travis/build/bcbi/BioMedQuery.jl/src/Processes/pubmed_mesh_to_umls_map.jl:66\n",
      "┌ Info: Descriptor 25 out of 52: Pediatric Obesity\n",
      "└ @ BioMedQuery.Processes /home/travis/build/bcbi/BioMedQuery.jl/src/Processes/pubmed_mesh_to_umls_map.jl:66\n",
      "┌ Info: Descriptor 33 out of 52: Young Adult\n",
      "└ @ BioMedQuery.Processes /home/travis/build/bcbi/BioMedQuery.jl/src/Processes/pubmed_mesh_to_umls_map.jl:66\n",
      "┌ Info: Descriptor 34 out of 52: Incidence\n",
      "└ @ BioMedQuery.Processes /home/travis/build/bcbi/BioMedQuery.jl/src/Processes/pubmed_mesh_to_umls_map.jl:66\n",
      "┌ Info: Descriptor 23 out of 52: Sports\n",
      "└ @ BioMedQuery.Processes /home/travis/build/bcbi/BioMedQuery.jl/src/Processes/pubmed_mesh_to_umls_map.jl:66\n",
      "┌ Info: Descriptor 28 out of 52: Cross-Sectional Studies\n",
      "└ @ BioMedQuery.Processes /home/travis/build/bcbi/BioMedQuery.jl/src/Processes/pubmed_mesh_to_umls_map.jl:66\n",
      "┌ Info: Descriptor 39 out of 52: Metabolic Syndrome\n",
      "└ @ BioMedQuery.Processes /home/travis/build/bcbi/BioMedQuery.jl/src/Processes/pubmed_mesh_to_umls_map.jl:66\n",
      "┌ Info: Descriptor 35 out of 52: Prognosis\n",
      "└ @ BioMedQuery.Processes /home/travis/build/bcbi/BioMedQuery.jl/src/Processes/pubmed_mesh_to_umls_map.jl:66\n",
      "┌ Info: Descriptor 41 out of 52: Nutrition Surveys\n",
      "└ @ BioMedQuery.Processes /home/travis/build/bcbi/BioMedQuery.jl/src/Processes/pubmed_mesh_to_umls_map.jl:66\n",
      "┌ Info: Descriptor 43 out of 52: Sleep Apnea, Obstructive\n",
      "└ @ BioMedQuery.Processes /home/travis/build/bcbi/BioMedQuery.jl/src/Processes/pubmed_mesh_to_umls_map.jl:66\n",
      "┌ Info: Descriptor 45 out of 52: Age Distribution\n",
      "└ @ BioMedQuery.Processes /home/travis/build/bcbi/BioMedQuery.jl/src/Processes/pubmed_mesh_to_umls_map.jl:66\n",
      "┌ Info: Descriptor 48 out of 52: Female\n",
      "└ @ BioMedQuery.Processes /home/travis/build/bcbi/BioMedQuery.jl/src/Processes/pubmed_mesh_to_umls_map.jl:66\n",
      "┌ Info: Descriptor 47 out of 52: Physical Fitness\n",
      "└ @ BioMedQuery.Processes /home/travis/build/bcbi/BioMedQuery.jl/src/Processes/pubmed_mesh_to_umls_map.jl:66\n",
      "┌ Info: Descriptor 37 out of 52: Pain Measurement\n",
      "└ @ BioMedQuery.Processes /home/travis/build/bcbi/BioMedQuery.jl/src/Processes/pubmed_mesh_to_umls_map.jl:66\n",
      "┌ Info: Descriptor 36 out of 52: Body Weight\n",
      "└ @ BioMedQuery.Processes /home/travis/build/bcbi/BioMedQuery.jl/src/Processes/pubmed_mesh_to_umls_map.jl:66\n",
      "┌ Info: Descriptor 40 out of 52: Pain\n",
      "└ @ BioMedQuery.Processes /home/travis/build/bcbi/BioMedQuery.jl/src/Processes/pubmed_mesh_to_umls_map.jl:66\n",
      "┌ Info: Descriptor 44 out of 52: Television\n",
      "└ @ BioMedQuery.Processes /home/travis/build/bcbi/BioMedQuery.jl/src/Processes/pubmed_mesh_to_umls_map.jl:66\n",
      "┌ Info: Descriptor 2 out of 52: Republic of Korea\n",
      "└ @ BioMedQuery.Processes /home/travis/build/bcbi/BioMedQuery.jl/src/Processes/pubmed_mesh_to_umls_map.jl:66\n",
      "┌ Info: Descriptor 13 out of 52: Prevalence\n",
      "└ @ BioMedQuery.Processes /home/travis/build/bcbi/BioMedQuery.jl/src/Processes/pubmed_mesh_to_umls_map.jl:66\n",
      "┌ Info: Descriptor 51 out of 52: C-Reactive Protein\n",
      "└ @ BioMedQuery.Processes /home/travis/build/bcbi/BioMedQuery.jl/src/Processes/pubmed_mesh_to_umls_map.jl:66\n",
      "┌ Info: Descriptor 10 out of 52: Case-Control Studies\n",
      "└ @ BioMedQuery.Processes /home/travis/build/bcbi/BioMedQuery.jl/src/Processes/pubmed_mesh_to_umls_map.jl:66\n",
      "┌ Info: Descriptor 9 out of 52: Male\n",
      "└ @ BioMedQuery.Processes /home/travis/build/bcbi/BioMedQuery.jl/src/Processes/pubmed_mesh_to_umls_map.jl:66\n",
      "┌ Info: Descriptor 19 out of 52: Child\n",
      "└ @ BioMedQuery.Processes /home/travis/build/bcbi/BioMedQuery.jl/src/Processes/pubmed_mesh_to_umls_map.jl:66\n",
      "┌ Info: Descriptor 18 out of 52: Aged\n",
      "└ @ BioMedQuery.Processes /home/travis/build/bcbi/BioMedQuery.jl/src/Processes/pubmed_mesh_to_umls_map.jl:66\n",
      "┌ Info: Descriptor 30 out of 52: Middle Aged\n",
      "└ @ BioMedQuery.Processes /home/travis/build/bcbi/BioMedQuery.jl/src/Processes/pubmed_mesh_to_umls_map.jl:66\n",
      "┌ Info: Descriptor 16 out of 52: Exercise\n",
      "└ @ BioMedQuery.Processes /home/travis/build/bcbi/BioMedQuery.jl/src/Processes/pubmed_mesh_to_umls_map.jl:66\n",
      "┌ Info: Descriptor 32 out of 52: Health Status\n",
      "└ @ BioMedQuery.Processes /home/travis/build/bcbi/BioMedQuery.jl/src/Processes/pubmed_mesh_to_umls_map.jl:66\n",
      "┌ Info: Descriptor 11 out of 52: Analysis of Variance\n",
      "└ @ BioMedQuery.Processes /home/travis/build/bcbi/BioMedQuery.jl/src/Processes/pubmed_mesh_to_umls_map.jl:66\n",
      "┌ Info: Descriptor 26 out of 52: Humans\n",
      "└ @ BioMedQuery.Processes /home/travis/build/bcbi/BioMedQuery.jl/src/Processes/pubmed_mesh_to_umls_map.jl:66\n",
      "┌ Info: Descriptor 6 out of 52: Risk Factors\n",
      "└ @ BioMedQuery.Processes /home/travis/build/bcbi/BioMedQuery.jl/src/Processes/pubmed_mesh_to_umls_map.jl:66\n",
      "┌ Info: Descriptor 42 out of 52: Fibromyalgia\n",
      "└ @ BioMedQuery.Processes /home/travis/build/bcbi/BioMedQuery.jl/src/Processes/pubmed_mesh_to_umls_map.jl:66\n",
      "┌ Info: Descriptor 46 out of 52: Overweight\n",
      "└ @ BioMedQuery.Processes /home/travis/build/bcbi/BioMedQuery.jl/src/Processes/pubmed_mesh_to_umls_map.jl:66\n",
      "┌ Info: Descriptor 50 out of 52: Obesity, Abdominal\n",
      "└ @ BioMedQuery.Processes /home/travis/build/bcbi/BioMedQuery.jl/src/Processes/pubmed_mesh_to_umls_map.jl:66\n",
      "┌ Info: Descriptor 49 out of 52: Biomarkers\n",
      "└ @ BioMedQuery.Processes /home/travis/build/bcbi/BioMedQuery.jl/src/Processes/pubmed_mesh_to_umls_map.jl:66\n",
      "┌ Info: Descriptor 38 out of 52: Waist Circumference\n",
      "└ @ BioMedQuery.Processes /home/travis/build/bcbi/BioMedQuery.jl/src/Processes/pubmed_mesh_to_umls_map.jl:66\n",
      "┌ Info: Descriptor 29 out of 52: Weight Gain\n",
      "└ @ BioMedQuery.Processes /home/travis/build/bcbi/BioMedQuery.jl/src/Processes/pubmed_mesh_to_umls_map.jl:66\n",
      "┌ Info: Descriptor 22 out of 52: Germany\n",
      "└ @ BioMedQuery.Processes /home/travis/build/bcbi/BioMedQuery.jl/src/Processes/pubmed_mesh_to_umls_map.jl:66\n",
      "┌ Info: Descriptor 51 out of 52: C-Reactive Protein\n",
      "└ @ BioMedQuery.Processes /home/travis/build/bcbi/BioMedQuery.jl/src/Processes/pubmed_mesh_to_umls_map.jl:66\n",
      "┌ Info: Descriptor 52 out of 52: Aged, 80 and over\n",
      "└ @ BioMedQuery.Processes /home/travis/build/bcbi/BioMedQuery.jl/src/Processes/pubmed_mesh_to_umls_map.jl:66\n",
      "102.796499 seconds (1.86 M allocations: 98.487 MiB, 0.03% gc time)\n"
     ]
    }
   ],
   "cell_type": "code",
   "source": [
    "@time map_mesh_to_umls_async!(db_sqlite, umls_user, umls_pswd; append_results=false, timeout=3);"
   ],
   "metadata": {},
   "execution_count": 10
  },
  {
   "outputs": [],
   "cell_type": "markdown",
   "source": [
    "Explore the output table"
   ],
   "metadata": {}
  },
  {
   "outputs": [
    {
     "output_type": "execute_result",
     "data": {
      "text/plain": "56×2 DataFrames.DataFrame\n│ Row │ mesh                      │ umls                            │\n├─────┼───────────────────────────┼─────────────────────────────────┤\n│ 1   │ ROC Curve                 │ Quantitative Concept            │\n│ 2   │ Severity of Illness Index │ Quantitative Concept            │\n│ 3   │ Obesity                   │ Disease or Syndrome             │\n│ 4   │ Japan                     │ Geographic Area                 │\n│ 5   │ Odds Ratio                │ Quantitative Concept            │\n│ 6   │ Fatigue                   │ Sign or Symptom                 │\n│ 7   │ Thyrotropin               │ Amino Acid, Peptide, or Protein │\n│ 8   │ Thyrotropin               │ Hormone                         │\n⋮\n│ 48  │ Physical Fitness          │ Idea or Concept                 │\n│ 49  │ Female                    │ Population Group                │\n│ 50  │ Analysis of Variance      │ Quantitative Concept            │\n│ 51  │ Fibromyalgia              │ Disease or Syndrome             │\n│ 52  │ Risk Factors              │ Finding                         │\n│ 53  │ Weight Gain               │ Finding                         │\n│ 54  │ Sex Distribution          │ Quantitative Concept            │\n│ 55  │ Germany                   │ Geographic Area                 │\n│ 56  │ Aged, 80 and over         │ Age Group                       │",
      "text/html": [
       "<table class=\"data-frame\"><thead><tr><th></th><th>mesh</th><th>umls</th></tr></thead><tbody><tr><th>1</th><td>ROC Curve</td><td>Quantitative Concept</td></tr><tr><th>2</th><td>Severity of Illness Index</td><td>Quantitative Concept</td></tr><tr><th>3</th><td>Obesity</td><td>Disease or Syndrome</td></tr><tr><th>4</th><td>Japan</td><td>Geographic Area</td></tr><tr><th>5</th><td>Odds Ratio</td><td>Quantitative Concept</td></tr><tr><th>6</th><td>Fatigue</td><td>Sign or Symptom</td></tr><tr><th>7</th><td>Thyrotropin</td><td>Amino Acid, Peptide, or Protein</td></tr><tr><th>8</th><td>Thyrotropin</td><td>Hormone</td></tr><tr><th>9</th><td>Thyrotropin</td><td>Pharmacologic Substance</td></tr><tr><th>10</th><td>Body Mass Index</td><td>Diagnostic Procedure</td></tr><tr><th>11</th><td>Young Adult</td><td>Age Group</td></tr><tr><th>12</th><td>Sports</td><td>Daily or Recreational Activity</td></tr><tr><th>13</th><td>Cross-Sectional Studies</td><td>Research Activity</td></tr><tr><th>14</th><td>Quality of Life</td><td>Idea or Concept</td></tr><tr><th>15</th><td>Logistic Models</td><td>Intellectual Product</td></tr><tr><th>16</th><td>Logistic Models</td><td>Quantitative Concept</td></tr><tr><th>17</th><td>Prognosis</td><td>Health Care Activity</td></tr><tr><th>18</th><td>Adult</td><td>Age Group</td></tr><tr><th>19</th><td>Nutrition Surveys</td><td>Research Activity</td></tr><tr><th>20</th><td>Age Distribution</td><td>Quantitative Concept</td></tr><tr><th>21</th><td>Body Weight</td><td>Organism Attribute</td></tr><tr><th>22</th><td>Prevalence</td><td>Quantitative Concept</td></tr><tr><th>23</th><td>C-Reactive Protein</td><td>Immunologic Factor</td></tr><tr><th>24</th><td>C-Reactive Protein</td><td>Amino Acid, Peptide, or Protein</td></tr><tr><th>&vellip;</th><td>&vellip;</td><td>&vellip;</td></tr></tbody></table>"
      ]
     },
     "metadata": {},
     "execution_count": 11
    }
   ],
   "cell_type": "code",
   "source": [
    "db_query(db_sqlite, \"SELECT * FROM mesh2umls;\")"
   ],
   "metadata": {},
   "execution_count": 11
  },
  {
   "outputs": [],
   "cell_type": "markdown",
   "source": [
    "### Filtering MeSH terms by UMLS concept"
   ],
   "metadata": {}
  },
  {
   "outputs": [],
   "cell_type": "markdown",
   "source": [
    "Getting the descriptor to index dictionary and occurence matrix"
   ],
   "metadata": {}
  },
  {
   "outputs": [
    {
     "name": "stdout",
     "output_type": "stream",
     "text": [
      "Filter mesh query string : SELECT mesh FROM mesh2umls WHERE umls IN ('Disease or Syndrome')\n",
      "-------------------------------------------------------------\n",
      "Found 5 articles with valid descriptors\n",
      "-------------------------------------------------------------\n",
      "  0.614691 seconds (790.08 k allocations: 40.460 MiB, 2.81% gc time)\n"
     ]
    }
   ],
   "cell_type": "code",
   "source": [
    "@time labels2ind, occur = umls_semantic_occurrences(db_sqlite, umls_concept);"
   ],
   "metadata": {},
   "execution_count": 12
  },
  {
   "outputs": [],
   "cell_type": "markdown",
   "source": [
    "Descriptor to Index Dictionary"
   ],
   "metadata": {}
  },
  {
   "outputs": [
    {
     "output_type": "execute_result",
     "data": {
      "text/plain": "Dict{String,Int64} with 5 entries:\n  \"Obesity\"                  => 1\n  \"Sleep Apnea, Obstructive\" => 2\n  \"Pediatric Obesity\"        => 3\n  \"Metabolic Syndrome\"       => 4\n  \"Fibromyalgia\"             => 5"
     },
     "metadata": {},
     "execution_count": 13
    }
   ],
   "cell_type": "code",
   "source": [
    "labels2ind"
   ],
   "metadata": {},
   "execution_count": 13
  },
  {
   "outputs": [],
   "cell_type": "markdown",
   "source": [
    "Output Data Matrix"
   ],
   "metadata": {}
  },
  {
   "outputs": [
    {
     "output_type": "execute_result",
     "data": {
      "text/plain": "5×5 Array{Float64,2}:\n 1.0  1.0  0.0  1.0  0.0\n 0.0  1.0  0.0  0.0  0.0\n 0.0  0.0  1.0  0.0  0.0\n 0.0  0.0  0.0  0.0  1.0\n 1.0  0.0  0.0  0.0  0.0"
     },
     "metadata": {},
     "execution_count": 14
    }
   ],
   "cell_type": "code",
   "source": [
    "Matrix(occur)"
   ],
   "metadata": {},
   "execution_count": 14
  },
  {
   "outputs": [],
   "cell_type": "markdown",
   "source": [
    "## DataFrames"
   ],
   "metadata": {}
  },
  {
   "outputs": [],
   "cell_type": "markdown",
   "source": [
    "This example demonstrates the typical workflow to create a MeSH to UMLS map as a DataFrame\n",
    "relating all concepts associated with all MeSH terms in the input dataframe."
   ],
   "metadata": {}
  },
  {
   "outputs": [],
   "cell_type": "markdown",
   "source": [
    "Get the articles (same as example in PubMed Search and Parse)"
   ],
   "metadata": {}
  },
  {
   "outputs": [
    {
     "name": "stdout",
     "output_type": "stream",
     "text": [
      "Getting 5 articles, starting at index 0\n",
      "------ESearch--------\n",
      "------EFetch--------\n",
      "------Save to dataframes--------\n"
     ]
    },
    {
     "output_type": "execute_result",
     "data": {
      "text/plain": "Dict{String,DataFrames.DataFrame} with 8 entries:\n  \"basic\"               => 5×13 DataFrames.DataFrame. Omitted printing of 9 col…\n  \"mesh_desc\"           => 52×2 DataFrames.DataFrame…\n  \"mesh_qual\"           => 9×2 DataFrames.DataFrame…\n  \"pub_type\"            => 10×3 DataFrames.DataFrame…\n  \"abstract_full\"       => 5×2 DataFrames.DataFrame. Omitted printing of 1 colu…\n  \"author_ref\"          => 35×8 DataFrames.DataFrame. Omitted printing of 3 col…\n  \"mesh_heading\"        => 78×5 DataFrames.DataFrame…\n  \"abstract_structured\" => 4×4 DataFrames.DataFrame. Omitted printing of 1 colu…"
     },
     "metadata": {},
     "execution_count": 15
    }
   ],
   "cell_type": "code",
   "source": [
    "dfs = Processes.pubmed_search_and_parse(email, search_term, max_articles, verbose)"
   ],
   "metadata": {},
   "execution_count": 15
  },
  {
   "outputs": [],
   "cell_type": "markdown",
   "source": [
    "Map MeSH to UMLS and explore the output table"
   ],
   "metadata": {}
  },
  {
   "outputs": [
    {
     "name": "stdout",
     "output_type": "stream",
     "text": [
      "----------Matching MESH to UMLS-----------\n",
      "Any[\"Reference Values\", \"Republic of Korea\", \"ROC Curve\", \"Fatigue\", \"Obesity\", \"Risk Factors\", \"Logistic Models\", \"Severity of Illness Index\", \"Male\", \"Case-Control Studies\", \"Analysis of Variance\", \"Sedentary Lifestyle\", \"Prevalence\", \"Quality of Life\", \"Odds Ratio\", \"Exercise\", \"Body Mass Index\", \"Aged\", \"Child\", \"Sex Distribution\", \"Adult\", \"Germany\", \"Sports\", \"Thyrotropin\", \"Pediatric Obesity\", \"Humans\", \"Japan\", \"Cross-Sectional Studies\", \"Weight Gain\", \"Middle Aged\", \"Surveys and Questionnaires\", \"Health Status\", \"Young Adult\", \"Incidence\", \"Prognosis\", \"Body Weight\", \"Pain Measurement\", \"Waist Circumference\", \"Metabolic Syndrome\", \"Pain\", \"Nutrition Surveys\", \"Fibromyalgia\", \"Sleep Apnea, Obstructive\", \"Television\", \"Age Distribution\", \"Overweight\", \"Physical Fitness\", \"Female\", \"Biomarkers\", \"Obesity, Abdominal\", \"C-Reactive Protein\", \"Aged, 80 and over\"]\n",
      "┌ Info: UTS: Reading TGT from file\n",
      "└ @ BioServices.UMLS /home/travis/.julia/packages/BioServices/SBqd5/src/umls.jl:125\n",
      "┌ Info: Descriptor 7, out of 52: Logistic Models\n",
      "└ @ BioMedQuery.Processes /home/travis/build/bcbi/BioMedQuery.jl/src/Processes/pubmed_mesh_to_umls_map.jl:132\n",
      "┌ Info: Descriptor 19, out of 52: Child\n",
      "└ @ BioMedQuery.Processes /home/travis/build/bcbi/BioMedQuery.jl/src/Processes/pubmed_mesh_to_umls_map.jl:132\n",
      "┌ Info: Descriptor 18, out of 52: Aged\n",
      "└ @ BioMedQuery.Processes /home/travis/build/bcbi/BioMedQuery.jl/src/Processes/pubmed_mesh_to_umls_map.jl:132\n",
      "┌ Info: Descriptor 10, out of 52: Case-Control Studies\n",
      "└ @ BioMedQuery.Processes /home/travis/build/bcbi/BioMedQuery.jl/src/Processes/pubmed_mesh_to_umls_map.jl:132\n",
      "┌ Info: Descriptor 22, out of 52: Germany\n",
      "└ @ BioMedQuery.Processes /home/travis/build/bcbi/BioMedQuery.jl/src/Processes/pubmed_mesh_to_umls_map.jl:132\n",
      "┌ Info: Descriptor 17, out of 52: Body Mass Index\n",
      "└ @ BioMedQuery.Processes /home/travis/build/bcbi/BioMedQuery.jl/src/Processes/pubmed_mesh_to_umls_map.jl:132\n",
      "┌ Info: Descriptor 8, out of 52: Severity of Illness Index\n",
      "└ @ BioMedQuery.Processes /home/travis/build/bcbi/BioMedQuery.jl/src/Processes/pubmed_mesh_to_umls_map.jl:132\n",
      "┌ Info: Descriptor 39, out of 52: Metabolic Syndrome\n",
      "└ @ BioMedQuery.Processes /home/travis/build/bcbi/BioMedQuery.jl/src/Processes/pubmed_mesh_to_umls_map.jl:132\n",
      "┌ Info: Descriptor 13, out of 52: Prevalence\n",
      "└ @ BioMedQuery.Processes /home/travis/build/bcbi/BioMedQuery.jl/src/Processes/pubmed_mesh_to_umls_map.jl:132\n",
      "┌ Info: Descriptor 21, out of 52: Adult\n",
      "└ @ BioMedQuery.Processes /home/travis/build/bcbi/BioMedQuery.jl/src/Processes/pubmed_mesh_to_umls_map.jl:132\n",
      "┌ Info: Descriptor 37, out of 52: Pain Measurement\n",
      "└ @ BioMedQuery.Processes /home/travis/build/bcbi/BioMedQuery.jl/src/Processes/pubmed_mesh_to_umls_map.jl:132\n",
      "┌ Info: Descriptor 15, out of 52: Odds Ratio\n",
      "└ @ BioMedQuery.Processes /home/travis/build/bcbi/BioMedQuery.jl/src/Processes/pubmed_mesh_to_umls_map.jl:132\n",
      "┌ Info: Descriptor 24, out of 52: Thyrotropin\n",
      "└ @ BioMedQuery.Processes /home/travis/build/bcbi/BioMedQuery.jl/src/Processes/pubmed_mesh_to_umls_map.jl:132\n",
      "┌ Info: Descriptor 23, out of 52: Sports\n",
      "└ @ BioMedQuery.Processes /home/travis/build/bcbi/BioMedQuery.jl/src/Processes/pubmed_mesh_to_umls_map.jl:132\n",
      "┌ Info: Descriptor 33, out of 52: Young Adult\n",
      "└ @ BioMedQuery.Processes /home/travis/build/bcbi/BioMedQuery.jl/src/Processes/pubmed_mesh_to_umls_map.jl:132\n",
      "┌ Info: Descriptor 12, out of 52: Sedentary Lifestyle\n",
      "└ @ BioMedQuery.Processes /home/travis/build/bcbi/BioMedQuery.jl/src/Processes/pubmed_mesh_to_umls_map.jl:132\n",
      "┌ Info: Descriptor 16, out of 52: Exercise\n",
      "└ @ BioMedQuery.Processes /home/travis/build/bcbi/BioMedQuery.jl/src/Processes/pubmed_mesh_to_umls_map.jl:132\n",
      "┌ Info: Descriptor 6, out of 52: Risk Factors\n",
      "└ @ BioMedQuery.Processes /home/travis/build/bcbi/BioMedQuery.jl/src/Processes/pubmed_mesh_to_umls_map.jl:132\n",
      "┌ Info: Descriptor 5, out of 52: Obesity\n",
      "└ @ BioMedQuery.Processes /home/travis/build/bcbi/BioMedQuery.jl/src/Processes/pubmed_mesh_to_umls_map.jl:132\n",
      "┌ Info: Descriptor 42, out of 52: Fibromyalgia\n",
      "└ @ BioMedQuery.Processes /home/travis/build/bcbi/BioMedQuery.jl/src/Processes/pubmed_mesh_to_umls_map.jl:132\n",
      "┌ Info: Descriptor 11, out of 52: Analysis of Variance\n",
      "└ @ BioMedQuery.Processes /home/travis/build/bcbi/BioMedQuery.jl/src/Processes/pubmed_mesh_to_umls_map.jl:132\n",
      "┌ Info: Descriptor 32, out of 52: Health Status\n",
      "└ @ BioMedQuery.Processes /home/travis/build/bcbi/BioMedQuery.jl/src/Processes/pubmed_mesh_to_umls_map.jl:132\n",
      "┌ Info: Descriptor 40, out of 52: Pain\n",
      "└ @ BioMedQuery.Processes /home/travis/build/bcbi/BioMedQuery.jl/src/Processes/pubmed_mesh_to_umls_map.jl:132\n",
      "┌ Info: Descriptor 20, out of 52: Sex Distribution\n",
      "└ @ BioMedQuery.Processes /home/travis/build/bcbi/BioMedQuery.jl/src/Processes/pubmed_mesh_to_umls_map.jl:132\n",
      "┌ Info: Descriptor 26, out of 52: Humans\n",
      "└ @ BioMedQuery.Processes /home/travis/build/bcbi/BioMedQuery.jl/src/Processes/pubmed_mesh_to_umls_map.jl:132\n",
      "┌ Info: Descriptor 25, out of 52: Pediatric Obesity\n",
      "└ @ BioMedQuery.Processes /home/travis/build/bcbi/BioMedQuery.jl/src/Processes/pubmed_mesh_to_umls_map.jl:132\n",
      "┌ Info: Descriptor 29, out of 52: Weight Gain\n",
      "└ @ BioMedQuery.Processes /home/travis/build/bcbi/BioMedQuery.jl/src/Processes/pubmed_mesh_to_umls_map.jl:132\n",
      "┌ Info: Descriptor 27, out of 52: Japan\n",
      "└ @ BioMedQuery.Processes /home/travis/build/bcbi/BioMedQuery.jl/src/Processes/pubmed_mesh_to_umls_map.jl:132\n",
      "┌ Info: Descriptor 31, out of 52: Surveys and Questionnaires\n",
      "└ @ BioMedQuery.Processes /home/travis/build/bcbi/BioMedQuery.jl/src/Processes/pubmed_mesh_to_umls_map.jl:132\n",
      "┌ Info: Descriptor 9, out of 52: Male\n",
      "└ @ BioMedQuery.Processes /home/travis/build/bcbi/BioMedQuery.jl/src/Processes/pubmed_mesh_to_umls_map.jl:132\n",
      "┌ Info: Descriptor 38, out of 52: Waist Circumference\n",
      "└ @ BioMedQuery.Processes /home/travis/build/bcbi/BioMedQuery.jl/src/Processes/pubmed_mesh_to_umls_map.jl:132\n",
      "┌ Info: Descriptor 2, out of 52: Republic of Korea\n",
      "└ @ BioMedQuery.Processes /home/travis/build/bcbi/BioMedQuery.jl/src/Processes/pubmed_mesh_to_umls_map.jl:132\n",
      "┌ Info: Descriptor 34, out of 52: Incidence\n",
      "└ @ BioMedQuery.Processes /home/travis/build/bcbi/BioMedQuery.jl/src/Processes/pubmed_mesh_to_umls_map.jl:132\n",
      "┌ Info: Descriptor 30, out of 52: Middle Aged\n",
      "└ @ BioMedQuery.Processes /home/travis/build/bcbi/BioMedQuery.jl/src/Processes/pubmed_mesh_to_umls_map.jl:132\n",
      "┌ Info: Descriptor 1, out of 52: Reference Values\n",
      "└ @ BioMedQuery.Processes /home/travis/build/bcbi/BioMedQuery.jl/src/Processes/pubmed_mesh_to_umls_map.jl:132\n",
      "┌ Info: Descriptor 44, out of 52: Television\n",
      "└ @ BioMedQuery.Processes /home/travis/build/bcbi/BioMedQuery.jl/src/Processes/pubmed_mesh_to_umls_map.jl:132\n",
      "┌ Info: Descriptor 36, out of 52: Body Weight\n",
      "└ @ BioMedQuery.Processes /home/travis/build/bcbi/BioMedQuery.jl/src/Processes/pubmed_mesh_to_umls_map.jl:132\n",
      "┌ Info: Descriptor 35, out of 52: Prognosis\n",
      "└ @ BioMedQuery.Processes /home/travis/build/bcbi/BioMedQuery.jl/src/Processes/pubmed_mesh_to_umls_map.jl:132\n",
      "┌ Info: Descriptor 28, out of 52: Cross-Sectional Studies\n",
      "└ @ BioMedQuery.Processes /home/travis/build/bcbi/BioMedQuery.jl/src/Processes/pubmed_mesh_to_umls_map.jl:132\n",
      "┌ Info: Descriptor 4, out of 52: Fatigue\n",
      "└ @ BioMedQuery.Processes /home/travis/build/bcbi/BioMedQuery.jl/src/Processes/pubmed_mesh_to_umls_map.jl:132\n",
      "┌ Info: Descriptor 14, out of 52: Quality of Life\n",
      "└ @ BioMedQuery.Processes /home/travis/build/bcbi/BioMedQuery.jl/src/Processes/pubmed_mesh_to_umls_map.jl:132\n",
      "┌ Info: Descriptor 50, out of 52: Obesity, Abdominal\n",
      "└ @ BioMedQuery.Processes /home/travis/build/bcbi/BioMedQuery.jl/src/Processes/pubmed_mesh_to_umls_map.jl:132\n",
      "┌ Info: Descriptor 45, out of 52: Age Distribution\n",
      "└ @ BioMedQuery.Processes /home/travis/build/bcbi/BioMedQuery.jl/src/Processes/pubmed_mesh_to_umls_map.jl:132\n",
      "┌ Info: Descriptor 48, out of 52: Female\n",
      "└ @ BioMedQuery.Processes /home/travis/build/bcbi/BioMedQuery.jl/src/Processes/pubmed_mesh_to_umls_map.jl:132\n",
      "┌ Info: Descriptor 3, out of 52: ROC Curve\n",
      "└ @ BioMedQuery.Processes /home/travis/build/bcbi/BioMedQuery.jl/src/Processes/pubmed_mesh_to_umls_map.jl:132\n",
      "┌ Info: Descriptor 49, out of 52: Biomarkers\n",
      "└ @ BioMedQuery.Processes /home/travis/build/bcbi/BioMedQuery.jl/src/Processes/pubmed_mesh_to_umls_map.jl:132\n",
      "┌ Info: Descriptor 46, out of 52: Overweight\n",
      "└ @ BioMedQuery.Processes /home/travis/build/bcbi/BioMedQuery.jl/src/Processes/pubmed_mesh_to_umls_map.jl:132\n",
      "┌ Info: Descriptor 41, out of 52: Nutrition Surveys\n",
      "└ @ BioMedQuery.Processes /home/travis/build/bcbi/BioMedQuery.jl/src/Processes/pubmed_mesh_to_umls_map.jl:132\n",
      "┌ Info: Descriptor 51, out of 52: C-Reactive Protein\n",
      "└ @ BioMedQuery.Processes /home/travis/build/bcbi/BioMedQuery.jl/src/Processes/pubmed_mesh_to_umls_map.jl:132\n",
      "┌ Info: Descriptor 47, out of 52: Physical Fitness\n",
      "└ @ BioMedQuery.Processes /home/travis/build/bcbi/BioMedQuery.jl/src/Processes/pubmed_mesh_to_umls_map.jl:132\n",
      "┌ Info: Descriptor 43, out of 52: Sleep Apnea, Obstructive\n",
      "└ @ BioMedQuery.Processes /home/travis/build/bcbi/BioMedQuery.jl/src/Processes/pubmed_mesh_to_umls_map.jl:132\n",
      "┌ Info: Descriptor 52, out of 52: Aged, 80 and over\n",
      "└ @ BioMedQuery.Processes /home/travis/build/bcbi/BioMedQuery.jl/src/Processes/pubmed_mesh_to_umls_map.jl:132\n",
      "┌ Info: Descriptor 51, out of 52: C-Reactive Protein\n",
      "└ @ BioMedQuery.Processes /home/travis/build/bcbi/BioMedQuery.jl/src/Processes/pubmed_mesh_to_umls_map.jl:132\n",
      "103.999191 seconds (4.59 M allocations: 235.580 MiB, 0.11% gc time)\n"
     ]
    },
    {
     "output_type": "execute_result",
     "data": {
      "text/plain": "56×2 DataFrames.DataFrame\n│ Row │ descriptor                 │ concept                         │\n├─────┼────────────────────────────┼─────────────────────────────────┤\n│ 1   │ Adult                      │ Age Group                       │\n│ 2   │ Age Distribution           │ Quantitative Concept            │\n│ 3   │ Aged                       │ Organism Attribute              │\n│ 4   │ Aged, 80 and over          │ Age Group                       │\n│ 5   │ Analysis of Variance       │ Quantitative Concept            │\n│ 6   │ Biomarkers                 │ Clinical Attribute              │\n│ 7   │ Body Mass Index            │ Diagnostic Procedure            │\n│ 8   │ Body Weight                │ Organism Attribute              │\n⋮\n│ 48  │ Sports                     │ Daily or Recreational Activity  │\n│ 49  │ Surveys and Questionnaires │ Research Activity               │\n│ 50  │ Television                 │ Manufactured Object             │\n│ 51  │ Thyrotropin                │ Amino Acid, Peptide, or Protein │\n│ 52  │ Thyrotropin                │ Hormone                         │\n│ 53  │ Thyrotropin                │ Pharmacologic Substance         │\n│ 54  │ Waist Circumference        │ Clinical Attribute              │\n│ 55  │ Weight Gain                │ Finding                         │\n│ 56  │ Young Adult                │ Age Group                       │",
      "text/html": [
       "<table class=\"data-frame\"><thead><tr><th></th><th>descriptor</th><th>concept</th></tr></thead><tbody><tr><th>1</th><td>Adult</td><td>Age Group</td></tr><tr><th>2</th><td>Age Distribution</td><td>Quantitative Concept</td></tr><tr><th>3</th><td>Aged</td><td>Organism Attribute</td></tr><tr><th>4</th><td>Aged, 80 and over</td><td>Age Group</td></tr><tr><th>5</th><td>Analysis of Variance</td><td>Quantitative Concept</td></tr><tr><th>6</th><td>Biomarkers</td><td>Clinical Attribute</td></tr><tr><th>7</th><td>Body Mass Index</td><td>Diagnostic Procedure</td></tr><tr><th>8</th><td>Body Weight</td><td>Organism Attribute</td></tr><tr><th>9</th><td>C-Reactive Protein</td><td>Amino Acid, Peptide, or Protein</td></tr><tr><th>10</th><td>C-Reactive Protein</td><td>Immunologic Factor</td></tr><tr><th>11</th><td>Case-Control Studies</td><td>Research Activity</td></tr><tr><th>12</th><td>Child</td><td>Age Group</td></tr><tr><th>13</th><td>Cross-Sectional Studies</td><td>Research Activity</td></tr><tr><th>14</th><td>Exercise</td><td>Daily or Recreational Activity</td></tr><tr><th>15</th><td>Fatigue</td><td>Sign or Symptom</td></tr><tr><th>16</th><td>Female</td><td>Population Group</td></tr><tr><th>17</th><td>Fibromyalgia</td><td>Disease or Syndrome</td></tr><tr><th>18</th><td>Germany</td><td>Geographic Area</td></tr><tr><th>19</th><td>Health Status</td><td>Qualitative Concept</td></tr><tr><th>20</th><td>Humans</td><td>Human</td></tr><tr><th>21</th><td>Incidence</td><td>Quantitative Concept</td></tr><tr><th>22</th><td>Japan</td><td>Geographic Area</td></tr><tr><th>23</th><td>Logistic Models</td><td>Intellectual Product</td></tr><tr><th>24</th><td>Logistic Models</td><td>Quantitative Concept</td></tr><tr><th>&vellip;</th><td>&vellip;</td><td>&vellip;</td></tr></tbody></table>"
      ]
     },
     "metadata": {},
     "execution_count": 16
    }
   ],
   "cell_type": "code",
   "source": [
    "@time res = map_mesh_to_umls_async(dfs[\"mesh_desc\"], umls_user, umls_pswd)"
   ],
   "metadata": {},
   "execution_count": 16
  },
  {
   "outputs": [],
   "cell_type": "markdown",
   "source": [
    "Getting the descriptor to index dictionary and occurence matrix"
   ],
   "metadata": {}
  },
  {
   "outputs": [
    {
     "name": "stdout",
     "output_type": "stream",
     "text": [
      "-------------------------------------------------------------\n",
      "Found 5 articles with valid descriptors\n",
      "-------------------------------------------------------------\n",
      "  0.613243 seconds (883.76 k allocations: 44.007 MiB, 3.04% gc time)\n"
     ]
    }
   ],
   "cell_type": "code",
   "source": [
    "@time labels2ind, occur = umls_semantic_occurrences(dfs, res, umls_concept);"
   ],
   "metadata": {},
   "execution_count": 17
  },
  {
   "outputs": [],
   "cell_type": "markdown",
   "source": [
    "Descriptor to Index Dictionary"
   ],
   "metadata": {}
  },
  {
   "outputs": [
    {
     "output_type": "execute_result",
     "data": {
      "text/plain": "Dict{String,Int64} with 5 entries:\n  \"Obesity\"                  => 1\n  \"Pediatric Obesity\"        => 2\n  \"Sleep Apnea, Obstructive\" => 3\n  \"Metabolic Syndrome\"       => 4\n  \"Fibromyalgia\"             => 5"
     },
     "metadata": {},
     "execution_count": 18
    }
   ],
   "cell_type": "code",
   "source": [
    "labels2ind"
   ],
   "metadata": {},
   "execution_count": 18
  },
  {
   "outputs": [],
   "cell_type": "markdown",
   "source": [
    "Output Data Matrix"
   ],
   "metadata": {}
  },
  {
   "outputs": [
    {
     "output_type": "execute_result",
     "data": {
      "text/plain": "5×5 Array{Float64,2}:\n 0.0  1.0  0.0  1.0  1.0\n 0.0  0.0  1.0  0.0  0.0\n 0.0  0.0  0.0  1.0  0.0\n 1.0  0.0  0.0  0.0  0.0\n 0.0  0.0  0.0  0.0  1.0"
     },
     "metadata": {},
     "execution_count": 19
    }
   ],
   "cell_type": "code",
   "source": [
    "Matrix(occur)"
   ],
   "metadata": {},
   "execution_count": 19
  },
  {
   "outputs": [],
   "cell_type": "markdown",
   "source": [
    "*This notebook was generated using [Literate.jl](https://github.com/fredrikekre/Literate.jl).*"
   ],
   "metadata": {}
  }
 ],
 "nbformat_minor": 3,
 "metadata": {
  "language_info": {
   "file_extension": ".jl",
   "mimetype": "application/julia",
   "name": "julia",
   "version": "0.7.0"
  },
  "kernelspec": {
   "name": "julia-0.7",
   "display_name": "Julia 0.7.0",
   "language": "julia"
  }
 },
 "nbformat": 4
}
