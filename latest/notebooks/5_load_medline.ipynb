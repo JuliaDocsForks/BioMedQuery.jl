{
 "cells": [
  {
   "outputs": [],
   "cell_type": "markdown",
   "source": [
    "# Load MEDLINE"
   ],
   "metadata": {}
  },
  {
   "outputs": [],
   "cell_type": "markdown",
   "source": [
    "The MEDLINE loader process in BioMedQuery saves the MEDLINE baseline files to a\n",
    "MySQL database and saves the raw (xml.gz) and parsed (csv) files to a ```medline```\n",
    "directory that will be created in the provided ```output_dir```.\n",
    "\n",
    "**WARNING:** There are 900+ medline files each with approximately 30,000 articles.\n",
    "This process will take hours to run for the full baseline load.\n",
    "\n",
    "The baseline files can be found [here](ftp://ftp.ncbi.nlm.nih.gov/pubmed/baseline/)."
   ],
   "metadata": {}
  },
  {
   "outputs": [],
   "cell_type": "markdown",
   "source": [
    "### Set Up\n",
    "The database and tables must already be created before loading the medline files.\n",
    "This process is set up for parallel processing.  To take advantage of this, workers\n",
    "can be added before loading the BioMedQuery package using the ```addprocs``` function."
   ],
   "metadata": {}
  },
  {
   "outputs": [],
   "cell_type": "code",
   "source": [
    "using BioMedQuery.DBUtils\n",
    "using BioMedQuery.PubMed\n",
    "using BioMedQuery.Processes"
   ],
   "metadata": {},
   "execution_count": 1
  },
  {
   "outputs": [],
   "cell_type": "markdown",
   "source": [
    "BioMedQuery has utility functions to create the database and tables. *Note: creating\n",
    "the tables using this function will drop any tables that already exist in the target\n",
    "database.*"
   ],
   "metadata": {}
  },
  {
   "outputs": [
    {
     "name": "stdout",
     "output_type": "stream",
     "text": [
      "Set to overwrite MySQL database test_db\n"
     ]
    }
   ],
   "cell_type": "code",
   "source": [
    "const conn = DBUtils.init_mysql_database(\"127.0.0.1\",\"root\",\"\",\"test_db\", true);\n",
    "PubMed.create_tables!(conn);"
   ],
   "metadata": {},
   "execution_count": 2
  },
  {
   "outputs": [],
   "cell_type": "markdown",
   "source": [
    "### Load a Test File\n",
    "As the full medline load is a large operation, it is recommended that a test run\n",
    "be completed first."
   ],
   "metadata": {}
  },
  {
   "outputs": [
    {
     "name": "stdout",
     "output_type": "stream",
     "text": [
      "INFO: ======Setting up folders and creating FTP Connection======\n",
      "medline directory already exists\n",
      "files directories already exists\n",
      "WARNING: Using `RequestOptions` with the `url` keyword is deprecated; use `RequestOptions(url, ...)` instead\n",
      "Stacktrace:\n",
      " [1] depwarn(::String, ::Symbol) at ./deprecated.jl:70\n",
      " [2] #RequestOptions#3(::String, ::Int64, ::String, ::String, ::Bool, ::Bool, ::Bool, ::Bool, ::String, ::Type{T} where T) at /home/travis/.julia/v0.6/FTPClient/src/FTPC.jl:53\n",
      " [3] (::Core.#kw#Type)(::Array{Any,1}, ::Type{FTPClient.RequestOptions}) at ./<missing>:0\n",
      " [4] get_ftp_con(::Bool) at /home/travis/.julia/v0.6/BioMedQuery/src/Processes/medline_load.jl:134\n",
      " [5] init_medline(::String, ::Bool) at /home/travis/.julia/v0.6/BioMedQuery/src/Processes/medline_load.jl:87\n",
      " [6] #load_medline!#25(::Int64, ::Int64, ::Int64, ::Bool, ::Function, ::MySQL.Connection, ::String) at /home/travis/.julia/v0.6/BioMedQuery/src/Processes/medline_load.jl:23\n",
      " [7] (::BioMedQuery.Processes.#kw##load_medline!)(::Array{Any,1}, ::BioMedQuery.Processes.#load_medline!, ::MySQL.Connection, ::String) at ./<missing>:0\n",
      " [8] include_string(::String, ::String) at ./loading.jl:522\n",
      " [9] include_string(::Module, ::String) at /home/travis/.julia/v0.6/Compat/src/Compat.jl:90\n",
      " [10] (::Literate.Documenter.##2#3{Literate.##20#21{Module},Base.PipeEndpoint,Base.PipeEndpoint,Pipe,Array{UInt8,1}})() at /home/travis/.julia/v0.6/Literate/src/Documenter.jl:41\n",
      " [11] withoutput(::Literate.##20#21{Module}) at /home/travis/.julia/v0.6/Literate/src/Documenter.jl:39\n",
      " [12] execute_notebook(::Dict{Any,Any}) at /home/travis/.julia/v0.6/Literate/src/Literate.jl:500\n",
      " [13] #15 at /home/travis/.julia/v0.6/Literate/src/Literate.jl:466 [inlined]\n",
      " [14] cd(::Literate.##15#19, ::String) at ./file.jl:70\n",
      " [15] #notebook#11(::Base.#identity, ::Base.#identity, ::Bool, ::Bool, ::Bool, ::String, ::Array{Any,1}, ::Function, ::String, ::String) at /home/travis/.julia/v0.6/Literate/src/Literate.jl:465\n",
      " [16] macro expansion at /home/travis/.julia/v0.6/BioMedQuery/docs/make.jl:7 [inlined]\n",
      " [17] anonymous at ./<missing>:?\n",
      " [18] include_from_node1(::String) at ./loading.jl:576\n",
      " [19] include(::String) at ./sysimg.jl:14\n",
      " [20] eval(::Module, ::Any) at ./boot.jl:235\n",
      " [21] process_options(::Base.JLOptions) at ./client.jl:286\n",
      " [22] _start() at ./client.jl:371\n",
      "while loading string, in expression starting on line 237\n",
      "INFO: Getting files from Medline\n",
      "Getting file: pubmedsample18n0001.xml.gz\n",
      "INFO: Parsing files into CSV\n",
      "Parsing file: pubmedsample18n0001.xml.gz\n",
      "INFO: Loading CSVs into MySQL\n",
      "Loading file: pubmedsample18n0001.xml.gz\n",
      "INFO: All files processed - closing FTP connection\n",
      " 11.886773 seconds (6.98 M allocations: 371.653 MiB, 1.61% gc time)\n"
     ]
    }
   ],
   "cell_type": "code",
   "source": [
    "@time Processes.load_medline!(conn, pwd(), test=true)"
   ],
   "metadata": {},
   "execution_count": 3
  },
  {
   "outputs": [],
   "cell_type": "markdown",
   "source": [
    "Review the output of this run in MySQL to make sure that it ran as expected.\n",
    "Additionally, the sample raw and parsed file should be in the new ```medline```\n",
    "directory in the current directory."
   ],
   "metadata": {}
  },
  {
   "outputs": [],
   "cell_type": "markdown",
   "source": [
    "### Performing a Full Load\n",
    "To run a full load, use the same code as above, but do not pass the test variable.\n",
    "It is also possible to break up the load by passing which files to start and stop at -\n",
    "simply pass ```start_file=n``` and ```end_file=p```.\n",
    "\n",
    "After loading, it is recommended you add indexes to the tables, the ```add_mysql_keys!```\n",
    "function can be used to add a standard set of indexes."
   ],
   "metadata": {}
  },
  {
   "outputs": [],
   "cell_type": "code",
   "source": [
    "add_mysql_keys!(conn)"
   ],
   "metadata": {},
   "execution_count": 4
  },
  {
   "outputs": [],
   "cell_type": "markdown",
   "source": [
    "*This notebook was generated using [Literate.jl](https://github.com/fredrikekre/Literate.jl).*"
   ],
   "metadata": {}
  }
 ],
 "nbformat_minor": 3,
 "metadata": {
  "language_info": {
   "file_extension": ".jl",
   "mimetype": "application/julia",
   "name": "julia",
   "version": "0.6.4"
  },
  "kernelspec": {
   "name": "julia-0.6",
   "display_name": "Julia 0.6.4",
   "language": "julia"
  }
 },
 "nbformat": 4
}
