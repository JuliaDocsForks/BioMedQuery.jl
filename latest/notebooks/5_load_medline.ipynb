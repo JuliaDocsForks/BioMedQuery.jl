{
 "cells": [
  {
   "outputs": [],
   "cell_type": "markdown",
   "source": [
    "# Load MEDLINE"
   ],
   "metadata": {}
  },
  {
   "outputs": [],
   "cell_type": "markdown",
   "source": [
    "The MEDLINE loader process in BioMedQuery saves the MEDLINE baseline files to a\n",
    "MySQL database and saves the raw (xml.gz) and parsed (csv) files to a ```medline```\n",
    "directory that will be created in the provided ```output_dir```.\n",
    "\n",
    "**WARNING:** There are 900+ medline files each with approximately 30,000 articles.\n",
    "This process will take hours to run for the full baseline load.\n",
    "\n",
    "The baseline files can be found [here](ftp://ftp.ncbi.nlm.nih.gov/pubmed/baseline/)."
   ],
   "metadata": {}
  },
  {
   "outputs": [],
   "cell_type": "markdown",
   "source": [
    "### Set Up\n",
    "The database and tables must already be created before loading the medline files.\n",
    "This process is set up for parallel processing.  To take advantage of this, workers\n",
    "can be added before loading the BioMedQuery package using the ```addprocs``` function."
   ],
   "metadata": {}
  },
  {
   "outputs": [],
   "cell_type": "code",
   "source": [
    "using BioMedQuery.DBUtils\n",
    "using BioMedQuery.PubMed\n",
    "using BioMedQuery.Processes"
   ],
   "metadata": {},
   "execution_count": 1
  },
  {
   "outputs": [],
   "cell_type": "markdown",
   "source": [
    "BioMedQuery has utility functions to create the database and tables. *Note: creating\n",
    "the tables using this function will drop any tables that already exist in the target\n",
    "database.*"
   ],
   "metadata": {}
  },
  {
   "outputs": [],
   "cell_type": "code",
   "source": [
    "const conn = DBUtils.init_mysql_database(\"127.0.0.1\",\"root\",\"\",\"test_db\", true);\n",
    "PubMed.create_tables!(conn);"
   ],
   "metadata": {},
   "execution_count": 2
  },
  {
   "outputs": [],
   "cell_type": "markdown",
   "source": [
    "### Load a Test File\n",
    "As the full medline load is a large operation, it is recommended that a test run\n",
    "be completed first."
   ],
   "metadata": {}
  },
  {
   "outputs": [
    {
     "name": "stdout",
     "output_type": "stream",
     "text": [
      "┌ Info: ======Setting up folders and creating FTP Connection======\n",
      "└ @ BioMedQuery.Processes /home/travis/build/bcbi/BioMedQuery.jl/src/Processes/medline_load.jl:70\n",
      "medline directory already exists\n",
      "files directories already exists\n",
      "┌ Info: Getting files from Medline\n",
      "└ @ BioMedQuery.Processes /home/travis/build/bcbi/BioMedQuery.jl/src/Processes/medline_load.jl:34\n",
      "Getting file: pubmedsample18n0001.xml.gz\n",
      "┌ Info: Parsing files into CSV\n",
      "└ @ BioMedQuery.Processes /home/travis/build/bcbi/BioMedQuery.jl/src/Processes/medline_load.jl:39\n",
      "Parsing file: pubmedsample18n0001.xml.gz\n",
      "┌ Info: Loading CSVs into MySQL\n",
      "└ @ BioMedQuery.Processes /home/travis/build/bcbi/BioMedQuery.jl/src/Processes/medline_load.jl:42\n",
      "Loading file: pubmedsample18n0001.xml.gz\n",
      "┌ Info: All files processed - closing FTP connection\n",
      "└ @ BioMedQuery.Processes /home/travis/build/bcbi/BioMedQuery.jl/src/Processes/medline_load.jl:57\n",
      " 10.881138 seconds (14.89 M allocations: 746.039 MiB, 4.49% gc time)\n"
     ]
    }
   ],
   "cell_type": "code",
   "source": [
    "@time Processes.load_medline!(conn, pwd(), test=true)"
   ],
   "metadata": {},
   "execution_count": 3
  },
  {
   "outputs": [],
   "cell_type": "markdown",
   "source": [
    "Review the output of this run in MySQL to make sure that it ran as expected.\n",
    "Additionally, the sample raw and parsed file should be in the new ```medline```\n",
    "directory in the current directory."
   ],
   "metadata": {}
  },
  {
   "outputs": [],
   "cell_type": "markdown",
   "source": [
    "### Performing a Full Load\n",
    "To run a full load, use the same code as above, but do not pass the test variable.\n",
    "It is also possible to break up the load by passing which files to start and stop at -\n",
    "simply pass ```start_file=n``` and ```end_file=p```.\n",
    "\n",
    "After loading, it is recommended you add indexes to the tables, the ```add_mysql_keys!```\n",
    "function can be used to add a standard set of indexes."
   ],
   "metadata": {}
  },
  {
   "outputs": [],
   "cell_type": "code",
   "source": [
    "add_mysql_keys!(conn)"
   ],
   "metadata": {},
   "execution_count": 4
  },
  {
   "outputs": [],
   "cell_type": "markdown",
   "source": [
    "*This notebook was generated using [Literate.jl](https://github.com/fredrikekre/Literate.jl).*"
   ],
   "metadata": {}
  }
 ],
 "nbformat_minor": 3,
 "metadata": {
  "language_info": {
   "file_extension": ".jl",
   "mimetype": "application/julia",
   "name": "julia",
   "version": "0.7.0"
  },
  "kernelspec": {
   "name": "julia-0.7",
   "display_name": "Julia 0.7.0",
   "language": "julia"
  }
 },
 "nbformat": 4
}
