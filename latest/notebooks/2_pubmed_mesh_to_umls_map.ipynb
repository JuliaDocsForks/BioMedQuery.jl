{
 "cells": [
  {
   "outputs": [],
   "cell_type": "markdown",
   "source": [
    "# Map Medical Subject Headings (MeSH) to UMLS"
   ],
   "metadata": {}
  },
  {
   "outputs": [],
   "cell_type": "markdown",
   "source": [
    "This example demonstrates the typical workflow to populate a MESH2UMLS database\n",
    "table relating all concepts associated with all MeSH terms in the input database.\n",
    "\n",
    "The following backends are supported for storing the results:\n",
    "* MySQL\n",
    "* SQLite"
   ],
   "metadata": {}
  },
  {
   "outputs": [],
   "cell_type": "markdown",
   "source": [
    "### Set Up"
   ],
   "metadata": {}
  },
  {
   "outputs": [],
   "cell_type": "code",
   "source": [
    "using SQLite\n",
    "using MySQL\n",
    "using BioMedQuery.DBUtils\n",
    "using BioMedQuery.Processes\n",
    "using BioServices.UMLS"
   ],
   "metadata": {},
   "execution_count": 1
  },
  {
   "outputs": [],
   "cell_type": "markdown",
   "source": [
    "Credentials are environment variables (e.g set in your .juliarc.jl)"
   ],
   "metadata": {}
  },
  {
   "outputs": [],
   "cell_type": "code",
   "source": [
    "umls_user = ENV[\"UMLS_USER\"];\n",
    "umls_pswd = ENV[\"UMLS_PSSWD\"];\n",
    "\n",
    "results_dir = \".\";"
   ],
   "metadata": {},
   "execution_count": 2
  },
  {
   "outputs": [],
   "cell_type": "markdown",
   "source": [
    "### Using MySQL as a backend"
   ],
   "metadata": {}
  },
  {
   "outputs": [],
   "cell_type": "markdown",
   "source": [
    "*Note: this example reuses the MySQL DB from the PubMed Search and Save example.*\n",
    "\n",
    "Create MySQL DB connection"
   ],
   "metadata": {}
  },
  {
   "outputs": [],
   "cell_type": "code",
   "source": [
    "host = \"127.0.0.1\";\n",
    "mysql_usr = \"root\";\n",
    "mysql_pswd = \"\";\n",
    "dbname = \"pubmed_obesity_2010_2012\";\n",
    "\n",
    "db_mysql = MySQL.connect(host, mysql_usr, mysql_pswd, db = dbname);"
   ],
   "metadata": {},
   "execution_count": 3
  },
  {
   "outputs": [],
   "cell_type": "markdown",
   "source": [
    "Map MeSH to UMLS"
   ],
   "metadata": {}
  },
  {
   "outputs": [
    {
     "name": "stdout",
     "output_type": "stream",
     "text": [
      "----------Matching MESH to UMLS-----------\n",
      "String[\"Adult\", \"Aged\", \"Aged, 80 and over\", \"Analysis of Variance\", \"Body Weight\", \"C-Reactive Protein\", \"Child\", \"Cross-Sectional Studies\", \"Fatigue\", \"Female\", \"Fibromyalgia\", \"Germany\", \"Health Status\", \"Humans\", \"Japan\", \"Male\", \"Middle Aged\", \"Nutrition Surveys\", \"Obesity\", \"Pain\", \"Pain Measurement\", \"Physical Fitness\", \"Prognosis\", \"Quality of Life\", \"Surveys and Questionnaires\", \"Reference Values\", \"Risk Factors\", \"ROC Curve\", \"Severity of Illness Index\", \"Sports\", \"Television\", \"Thyrotropin\", \"Biomarkers\", \"Weight Gain\", \"Exercise\", \"Body Mass Index\", \"Incidence\", \"Prevalence\", \"Logistic Models\", \"Odds Ratio\", \"Case-Control Studies\", \"Age Distribution\", \"Sex Distribution\", \"Sleep Apnea, Obstructive\", \"Metabolic Syndrome\", \"Overweight\", \"Waist Circumference\", \"Young Adult\", \"Obesity, Abdominal\", \"Republic of Korea\", \"Sedentary Lifestyle\", \"Pediatric Obesity\"]\n",
      "INFO: UTS: Requesting new TGT\n",
      "INFO: Descriptor 8 out of 52: Cross-Sectional Studies\n",
      "INFO: Descriptor 17 out of 52: Middle Aged\n",
      "INFO: Descriptor 2 out of 52: Aged\n",
      "INFO: Descriptor 15 out of 52: Japan\n",
      "INFO: Descriptor 20 out of 52: Pain\n",
      "INFO: Descriptor 18 out of 52: Nutrition Surveys\n",
      "INFO: Descriptor 21 out of 52: Pain Measurement\n",
      "INFO: Descriptor 16 out of 52: Male\n",
      "INFO: Descriptor 25 out of 52: Surveys and Questionnaires\n",
      "INFO: Descriptor 27 out of 52: Risk Factors\n",
      "INFO: Descriptor 13 out of 52: Health Status\n",
      "INFO: Descriptor 31 out of 52: Television\n",
      "INFO: Descriptor 33 out of 52: Biomarkers\n",
      "INFO: Descriptor 34 out of 52: Weight Gain\n",
      "INFO: Descriptor 3 out of 52: Aged, 80 and over\n",
      "INFO: Descriptor 35 out of 52: Exercise\n",
      "INFO: Descriptor 36 out of 52: Body Mass Index\n",
      "INFO: Descriptor 38 out of 52: Prevalence\n",
      "INFO: Descriptor 39 out of 52: Logistic Models\n",
      "INFO: Descriptor 40 out of 52: Odds Ratio\n",
      "INFO: Descriptor 43 out of 52: Sex Distribution\n",
      "INFO: Descriptor 45 out of 52: Metabolic Syndrome\n",
      "INFO: Descriptor 48 out of 52: Young Adult\n",
      "INFO: Descriptor 49 out of 52: Obesity, Abdominal\n",
      "INFO: Descriptor 1 out of 52: Adult\n",
      "INFO: Descriptor 23 out of 52: Prognosis\n",
      "INFO: Descriptor 19 out of 52: Obesity\n",
      "INFO: Descriptor 22 out of 52: Physical Fitness\n",
      "INFO: Descriptor 26 out of 52: Reference Values\n",
      "INFO: Descriptor 14 out of 52: Humans\n",
      "INFO: Descriptor 7 out of 52: Child\n",
      "INFO: Descriptor 32 out of 52: Thyrotropin\n",
      "INFO: Descriptor 12 out of 52: Germany\n",
      "INFO: Descriptor 37 out of 52: Incidence\n",
      "INFO: Descriptor 5 out of 52: Body Weight\n",
      "INFO: Descriptor 46 out of 52: Overweight\n",
      "INFO: Descriptor 28 out of 52: ROC Curve\n",
      "INFO: Descriptor 30 out of 52: Sports\n",
      "INFO: Descriptor 42 out of 52: Age Distribution\n",
      "INFO: Descriptor 41 out of 52: Case-Control Studies\n",
      "INFO: Descriptor 4 out of 52: Analysis of Variance\n",
      "INFO: Descriptor 6 out of 52: C-Reactive Protein\n",
      "INFO: Descriptor 44 out of 52: Sleep Apnea, Obstructive\n",
      "INFO: Descriptor 24 out of 52: Quality of Life\n",
      "INFO: Descriptor 11 out of 52: Fibromyalgia\n",
      "INFO: Descriptor 29 out of 52: Severity of Illness Index\n",
      "INFO: Descriptor 50 out of 52: Republic of Korea\n",
      "INFO: Descriptor 9 out of 52: Fatigue\n",
      "INFO: Descriptor 10 out of 52: Female\n",
      "INFO: Descriptor 47 out of 52: Waist Circumference\n",
      "INFO: Descriptor 51 out of 52: Sedentary Lifestyle\n",
      "INFO: Descriptor 51 out of 52: Sedentary Lifestyle\n",
      "INFO: Descriptor 52 out of 52: Pediatric Obesity\n",
      "124.377383 seconds (1.80 M allocations: 101.172 MiB, 0.05% gc time)\n"
     ]
    }
   ],
   "cell_type": "code",
   "source": [
    "@time map_mesh_to_umls_async!(db_mysql, umls_user, umls_pswd; append_results=false, timeout=3);"
   ],
   "metadata": {},
   "execution_count": 4
  },
  {
   "outputs": [],
   "cell_type": "markdown",
   "source": [
    "#### Explore the output table"
   ],
   "metadata": {}
  },
  {
   "outputs": [
    {
     "output_type": "execute_result",
     "data": {
      "text/plain": "56×2 DataFrames.DataFrame\n│ Row │ mesh                       │ umls                            │\n├─────┼────────────────────────────┼─────────────────────────────────┤\n│ 1   │ Adult                      │ Age Group                       │\n│ 2   │ Age Distribution           │ Quantitative Concept            │\n│ 3   │ Aged                       │ Organism Attribute              │\n│ 4   │ Aged, 80 and over          │ Age Group                       │\n│ 5   │ Analysis of Variance       │ Quantitative Concept            │\n│ 6   │ Biomarkers                 │ Clinical Attribute              │\n│ 7   │ Body Mass Index            │ Diagnostic Procedure            │\n│ 8   │ Body Weight                │ Organism Attribute              │\n⋮\n│ 48  │ Sports                     │ Daily or Recreational Activity  │\n│ 49  │ Surveys and Questionnaires │ Research Activity               │\n│ 50  │ Television                 │ Manufactured Object             │\n│ 51  │ Thyrotropin                │ Amino Acid, Peptide, or Protein │\n│ 52  │ Thyrotropin                │ Hormone                         │\n│ 53  │ Thyrotropin                │ Pharmacologic Substance         │\n│ 54  │ Waist Circumference        │ Clinical Attribute              │\n│ 55  │ Weight Gain                │ Finding                         │\n│ 56  │ Young Adult                │ Age Group                       │",
      "text/html": [
       "<table class=\"data-frame\"><thead><tr><th></th><th>mesh</th><th>umls</th></tr></thead><tbody><tr><th>1</th><td>Adult</td><td>Age Group</td></tr><tr><th>2</th><td>Age Distribution</td><td>Quantitative Concept</td></tr><tr><th>3</th><td>Aged</td><td>Organism Attribute</td></tr><tr><th>4</th><td>Aged, 80 and over</td><td>Age Group</td></tr><tr><th>5</th><td>Analysis of Variance</td><td>Quantitative Concept</td></tr><tr><th>6</th><td>Biomarkers</td><td>Clinical Attribute</td></tr><tr><th>7</th><td>Body Mass Index</td><td>Diagnostic Procedure</td></tr><tr><th>8</th><td>Body Weight</td><td>Organism Attribute</td></tr><tr><th>9</th><td>C-Reactive Protein</td><td>Amino Acid, Peptide, or Protein</td></tr><tr><th>10</th><td>C-Reactive Protein</td><td>Immunologic Factor</td></tr><tr><th>11</th><td>Case-Control Studies</td><td>Research Activity</td></tr><tr><th>12</th><td>Child</td><td>Age Group</td></tr><tr><th>13</th><td>Cross-Sectional Studies</td><td>Research Activity</td></tr><tr><th>14</th><td>Exercise</td><td>Daily or Recreational Activity</td></tr><tr><th>15</th><td>Fatigue</td><td>Sign or Symptom</td></tr><tr><th>16</th><td>Female</td><td>Population Group</td></tr><tr><th>17</th><td>Fibromyalgia</td><td>Disease or Syndrome</td></tr><tr><th>18</th><td>Germany</td><td>Geographic Area</td></tr><tr><th>19</th><td>Health Status</td><td>Qualitative Concept</td></tr><tr><th>20</th><td>Humans</td><td>Human</td></tr><tr><th>21</th><td>Incidence</td><td>Quantitative Concept</td></tr><tr><th>22</th><td>Japan</td><td>Geographic Area</td></tr><tr><th>23</th><td>Logistic Models</td><td>Intellectual Product</td></tr><tr><th>24</th><td>Logistic Models</td><td>Quantitative Concept</td></tr><tr><th>&vellip;</th><td>&vellip;</td><td>&vellip;</td></tr></tbody></table>"
      ]
     },
     "metadata": {},
     "execution_count": 5
    }
   ],
   "cell_type": "code",
   "source": [
    "db_query(db_mysql, \"SELECT * FROM mesh2umls\")"
   ],
   "metadata": {},
   "execution_count": 5
  },
  {
   "outputs": [],
   "cell_type": "markdown",
   "source": [
    "### Using SQLite as a backend"
   ],
   "metadata": {}
  },
  {
   "outputs": [],
   "cell_type": "markdown",
   "source": [
    "*Note: this example reuses the MySQL DB from the PubMed Search and Save example.*\n",
    "\n",
    "Create SQLite DB connection"
   ],
   "metadata": {}
  },
  {
   "outputs": [],
   "cell_type": "code",
   "source": [
    "db_path = \"$(results_dir)/pubmed_obesity_2010_2012.db\";\n",
    "db_sqlite = SQLite.DB(db_path);"
   ],
   "metadata": {},
   "execution_count": 6
  },
  {
   "outputs": [],
   "cell_type": "markdown",
   "source": [
    "Map MeSH to UMLS"
   ],
   "metadata": {}
  },
  {
   "outputs": [
    {
     "name": "stdout",
     "output_type": "stream",
     "text": [
      "----------Matching MESH to UMLS-----------\n",
      "Union{Missings.Missing, String}[\"Reference Values\", \"Republic of Korea\", \"ROC Curve\", \"Fatigue\", \"Obesity\", \"Risk Factors\", \"Logistic Models\", \"Severity of Illness Index\", \"Male\", \"Case-Control Studies\", \"Analysis of Variance\", \"Sedentary Lifestyle\", \"Prevalence\", \"Quality of Life\", \"Odds Ratio\", \"Exercise\", \"Body Mass Index\", \"Aged\", \"Child\", \"Sex Distribution\", \"Adult\", \"Germany\", \"Sports\", \"Thyrotropin\", \"Pediatric Obesity\", \"Humans\", \"Japan\", \"Cross-Sectional Studies\", \"Weight Gain\", \"Middle Aged\", \"Surveys and Questionnaires\", \"Health Status\", \"Young Adult\", \"Incidence\", \"Prognosis\", \"Body Weight\", \"Pain Measurement\", \"Waist Circumference\", \"Metabolic Syndrome\", \"Pain\", \"Nutrition Surveys\", \"Fibromyalgia\", \"Sleep Apnea, Obstructive\", \"Television\", \"Age Distribution\", \"Overweight\", \"Physical Fitness\", \"Female\", \"Biomarkers\", \"Obesity, Abdominal\", \"C-Reactive Protein\", \"Aged, 80 and over\"]\n",
      "INFO: UTS: Reading TGT from file\n",
      "INFO: Descriptor 12 out of 52: Sedentary Lifestyle\n",
      "INFO: Descriptor 10 out of 52: Case-Control Studies\n",
      "INFO: Descriptor 11 out of 52: Analysis of Variance\n",
      "INFO: Descriptor 15 out of 52: Odds Ratio\n",
      "INFO: Descriptor 22 out of 52: Germany\n",
      "INFO: Descriptor 28 out of 52: Cross-Sectional Studies\n",
      "INFO: Descriptor 29 out of 52: Weight Gain\n",
      "INFO: Descriptor 19 out of 52: Child\n",
      "INFO: Descriptor 7 out of 52: Logistic Models\n",
      "INFO: Descriptor 30 out of 52: Middle Aged\n",
      "INFO: Descriptor 25 out of 52: Pediatric Obesity\n",
      "INFO: Descriptor 26 out of 52: Humans\n",
      "INFO: Descriptor 20 out of 52: Sex Distribution\n",
      "INFO: Descriptor 27 out of 52: Japan\n",
      "INFO: Descriptor 21 out of 52: Adult\n",
      "INFO: Descriptor 32 out of 52: Health Status\n",
      "INFO: Descriptor 34 out of 52: Incidence\n",
      "INFO: Descriptor 36 out of 52: Body Weight\n",
      "INFO: Descriptor 39 out of 52: Metabolic Syndrome\n",
      "INFO: Descriptor 40 out of 52: Pain\n",
      "INFO: Descriptor 41 out of 52: Nutrition Surveys\n",
      "INFO: Descriptor 42 out of 52: Fibromyalgia\n",
      "INFO: Descriptor 45 out of 52: Age Distribution\n",
      "INFO: Descriptor 47 out of 52: Physical Fitness\n",
      "INFO: Descriptor 48 out of 52: Female\n",
      "INFO: Descriptor 49 out of 52: Biomarkers\n",
      "INFO: Descriptor 50 out of 52: Obesity, Abdominal\n",
      "INFO: Descriptor 1 out of 52: Reference Values\n",
      "INFO: Descriptor 6 out of 52: Risk Factors\n",
      "INFO: Descriptor 51 out of 52: C-Reactive Protein\n",
      "INFO: Descriptor 9 out of 52: Male\n",
      "INFO: Descriptor 8 out of 52: Severity of Illness Index\n",
      "INFO: Descriptor 24 out of 52: Thyrotropin\n",
      "INFO: Descriptor 17 out of 52: Body Mass Index\n",
      "INFO: Descriptor 14 out of 52: Quality of Life\n",
      "INFO: Descriptor 13 out of 52: Prevalence\n",
      "INFO: Descriptor 31 out of 52: Surveys and Questionnaires\n",
      "INFO: Descriptor 38 out of 52: Waist Circumference\n",
      "INFO: Descriptor 23 out of 52: Sports\n",
      "INFO: Descriptor 2 out of 52: Republic of Korea\n",
      "INFO: Descriptor 5 out of 52: Obesity\n",
      "INFO: Descriptor 18 out of 52: Aged\n",
      "INFO: Descriptor 3 out of 52: ROC Curve\n",
      "INFO: Descriptor 44 out of 52: Television\n",
      "INFO: Descriptor 4 out of 52: Fatigue\n",
      "INFO: Descriptor 35 out of 52: Prognosis\n",
      "INFO: Descriptor 43 out of 52: Sleep Apnea, Obstructive\n",
      "INFO: Descriptor 46 out of 52: Overweight\n",
      "INFO: Descriptor 33 out of 52: Young Adult\n",
      "INFO: Descriptor 16 out of 52: Exercise\n",
      "INFO: Descriptor 37 out of 52: Pain Measurement\n",
      "INFO: Descriptor 51 out of 52: C-Reactive Protein\n",
      "INFO: Descriptor 52 out of 52: Aged, 80 and over\n",
      "104.052792 seconds (934.32 k allocations: 48.999 MiB, 0.06% gc time)\n"
     ]
    }
   ],
   "cell_type": "code",
   "source": [
    "@time map_mesh_to_umls_async!(db_sqlite, umls_user, umls_pswd; append_results=false, timeout=3);"
   ],
   "metadata": {},
   "execution_count": 7
  },
  {
   "outputs": [],
   "cell_type": "markdown",
   "source": [
    "#### Explore the output table"
   ],
   "metadata": {}
  },
  {
   "outputs": [
    {
     "output_type": "execute_result",
     "data": {
      "text/plain": "56×2 DataFrames.DataFrame\n│ Row │ mesh                     │ umls                           │\n├─────┼──────────────────────────┼────────────────────────────────┤\n│ 1   │ Sedentary Lifestyle      │ Finding                        │\n│ 2   │ Analysis of Variance     │ Quantitative Concept           │\n│ 3   │ Germany                  │ Geographic Area                │\n│ 4   │ Weight Gain              │ Finding                        │\n│ 5   │ Child                    │ Age Group                      │\n│ 6   │ Case-Control Studies     │ Research Activity              │\n│ 7   │ Logistic Models          │ Intellectual Product           │\n│ 8   │ Logistic Models          │ Quantitative Concept           │\n⋮\n│ 48  │ Sleep Apnea, Obstructive │ Disease or Syndrome            │\n│ 49  │ Republic of Korea        │ Geographic Area                │\n│ 50  │ Overweight               │ Finding                        │\n│ 51  │ Sports                   │ Daily or Recreational Activity │\n│ 52  │ Young Adult              │ Age Group                      │\n│ 53  │ Exercise                 │ Daily or Recreational Activity │\n│ 54  │ Pain Measurement         │ Diagnostic Procedure           │\n│ 55  │ Prevalence               │ Quantitative Concept           │\n│ 56  │ Aged, 80 and over        │ Age Group                      │",
      "text/html": [
       "<table class=\"data-frame\"><thead><tr><th></th><th>mesh</th><th>umls</th></tr></thead><tbody><tr><th>1</th><td>Sedentary Lifestyle</td><td>Finding</td></tr><tr><th>2</th><td>Analysis of Variance</td><td>Quantitative Concept</td></tr><tr><th>3</th><td>Germany</td><td>Geographic Area</td></tr><tr><th>4</th><td>Weight Gain</td><td>Finding</td></tr><tr><th>5</th><td>Child</td><td>Age Group</td></tr><tr><th>6</th><td>Case-Control Studies</td><td>Research Activity</td></tr><tr><th>7</th><td>Logistic Models</td><td>Intellectual Product</td></tr><tr><th>8</th><td>Logistic Models</td><td>Quantitative Concept</td></tr><tr><th>9</th><td>Pediatric Obesity</td><td>Disease or Syndrome</td></tr><tr><th>10</th><td>Body Weight</td><td>Organism Attribute</td></tr><tr><th>11</th><td>Middle Aged</td><td>Age Group</td></tr><tr><th>12</th><td>Fibromyalgia</td><td>Disease or Syndrome</td></tr><tr><th>13</th><td>Incidence</td><td>Quantitative Concept</td></tr><tr><th>14</th><td>Pain</td><td>Food</td></tr><tr><th>15</th><td>Reference Values</td><td>Quantitative Concept</td></tr><tr><th>16</th><td>Sex Distribution</td><td>Quantitative Concept</td></tr><tr><th>17</th><td>Health Status</td><td>Qualitative Concept</td></tr><tr><th>18</th><td>Adult</td><td>Age Group</td></tr><tr><th>19</th><td>Cross-Sectional Studies</td><td>Research Activity</td></tr><tr><th>20</th><td>Fatigue</td><td>Sign or Symptom</td></tr><tr><th>21</th><td>Female</td><td>Population Group</td></tr><tr><th>22</th><td>Risk Factors</td><td>Finding</td></tr><tr><th>23</th><td>Humans</td><td>Human</td></tr><tr><th>24</th><td>Physical Fitness</td><td>Idea or Concept</td></tr><tr><th>&vellip;</th><td>&vellip;</td><td>&vellip;</td></tr></tbody></table>"
      ]
     },
     "metadata": {},
     "execution_count": 8
    }
   ],
   "cell_type": "code",
   "source": [
    "db_query(db_sqlite, \"SELECT * FROM mesh2umls;\")"
   ],
   "metadata": {},
   "execution_count": 8
  },
  {
   "outputs": [],
   "cell_type": "markdown",
   "source": [
    "*This notebook was generated using [Literate.jl](https://github.com/fredrikekre/Literate.jl).*"
   ],
   "metadata": {}
  }
 ],
 "nbformat_minor": 3,
 "metadata": {
  "language_info": {
   "file_extension": ".jl",
   "mimetype": "application/julia",
   "name": "julia",
   "version": "0.6.4"
  },
  "kernelspec": {
   "name": "julia-0.6",
   "display_name": "Julia 0.6.4",
   "language": "julia"
  }
 },
 "nbformat": 4
}
