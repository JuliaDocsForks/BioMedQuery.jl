{
 "cells": [
  {
   "cell_type": "markdown",
   "metadata": {},
   "source": [
    "### Map Medical Subject Headings (MeSH) to UMLS and save to database\n",
    "\n",
    "This example demonstrates the typical workflow to populate a MESH2UMLS database table relating all concets associated with all MESH terms in the input database. \n",
    "\n",
    "**Note:** This example uses the database created by examples/pubmed_search_and_save script/notebook\n",
    "\n",
    "Authors: Isabel Restrepo <br>\n",
    "BCBI - Brown University <br>\n",
    "Version: Julia 0.6"
   ]
  },
  {
   "cell_type": "code",
   "execution_count": 1,
   "metadata": {},
   "outputs": [
    {
     "name": "stderr",
     "output_type": "stream",
     "text": [
      "WARNING: Method definition ==(Base.Nullable{S}, Base.Nullable{T}) in module Base at nullable.jl:238 overwritten in module NullableArrays at /Users/isa/.julia/v0.6/NullableArrays/src/operators.jl:99.\n"
     ]
    }
   ],
   "source": [
    "using SQLite\n",
    "using MySQL\n",
    "using BioMedQuery.Processes\n",
    "using BioServices.UMLS"
   ]
  },
  {
   "cell_type": "code",
   "execution_count": 2,
   "metadata": {},
   "outputs": [],
   "source": [
    "# credentials are environment variables (e.g set in your .juliarc)\n",
    "umls_user = ENV[\"UMLS_USER\"];\n",
    "umls_pswd = ENV[\"UMLS_PSSWD\"];"
   ]
  },
  {
   "cell_type": "markdown",
   "metadata": {},
   "source": [
    "#### Using MySQL as a backend"
   ]
  },
  {
   "cell_type": "code",
   "execution_count": 3,
   "metadata": {},
   "outputs": [
    {
     "name": "stdout",
     "output_type": "stream",
     "text": [
      "----------Matching MESH to UMLS-----------\n"
     ]
    },
    {
     "name": "stderr",
     "output_type": "stream",
     "text": [
      "\u001b[1m\u001b[36mINFO: \u001b[39m\u001b[22m\u001b[36mUTS: Reading TGT from file\n",
      "\u001b[39m\u001b[1m\u001b[36mINFO: \u001b[39m\u001b[22m\u001b[36mDescriptor 20 out of 52\n",
      "\u001b[39m\u001b[1m\u001b[36mINFO: \u001b[39m\u001b[22m\u001b[36mDescriptor 3 out of 52\n",
      "\u001b[39m\u001b[1m\u001b[36mINFO: \u001b[39m\u001b[22m\u001b[36mDescriptor 7 out of 52\n",
      "\u001b[39m\u001b[1m\u001b[36mINFO: \u001b[39m\u001b[22m\u001b[36mDescriptor 19 out of 52\n",
      "\u001b[39m\u001b[1m\u001b[36mINFO: \u001b[39m\u001b[22m\u001b[36mDescriptor 37 out of 52\n",
      "\u001b[39m\u001b[1m\u001b[36mINFO: \u001b[39m\u001b[22m\u001b[36mDescriptor 15 out of 52\n",
      "\u001b[39m\u001b[1m\u001b[36mINFO: \u001b[39m\u001b[22m\u001b[1m\u001b[36mINFO: \u001b[39m\u001b[22m\u001b[1m\u001b[36mINFO: \u001b[39m\u001b[22m\u001b[1m\u001b[36mINFO: \u001b[39m\u001b[22m\u001b[1m\u001b[36mINFO: \u001b[39m\u001b[22m\u001b[1m\u001b[36mINFO: \u001b[39m\u001b[22m\u001b[1m\u001b[36mINFO: \u001b[39m\u001b[22m\u001b[1m\u001b[36mINFO: \u001b[39m\u001b[22m\u001b[1m\u001b[36mINFO: \u001b[39m\u001b[22m\u001b[1m\u001b[36mINFO: \u001b[39m\u001b[22m\u001b[36mDescriptor 16 out of 52\n",
      "\u001b[39m\u001b[36mDescriptor 11 out of 52\n",
      "\u001b[39m\u001b[36mDescriptor 27 out of 52\n",
      "\u001b[39m\u001b[36mDescriptor 5 out of 52\n",
      "\u001b[39m\u001b[36mDescriptor 14 out of 52\n",
      "\u001b[39m\u001b[36mDescriptor 8 out of 52\n",
      "\u001b[39m\u001b[36mDescriptor 46 out of 52\n",
      "\u001b[39m\u001b[1m\u001b[36mINFO: \u001b[39m\u001b[22m\u001b[36mDescriptor 45 out of 52\n",
      "\u001b[39m\u001b[36mDescriptor 13 out of 52\n",
      "\u001b[39m\u001b[36mDescriptor 18 out of 52\n",
      "\u001b[39m\u001b[36mDescriptor 22 out of 52\n",
      "\u001b[39m\u001b[1m\u001b[36mINFO: \u001b[39m\u001b[22m\u001b[36mDescriptor 25 out of 52\n",
      "\u001b[39m\u001b[1m\u001b[36mINFO: \u001b[39m\u001b[22m\u001b[36mDescriptor 32 out of 52\n",
      "\u001b[39m\u001b[1m\u001b[36mINFO: \u001b[39m\u001b[22m\u001b[36mDescriptor 35 out of 52\n",
      "\u001b[39m\u001b[1m\u001b[36mINFO: \u001b[39m\u001b[22m\u001b[36mDescriptor 21 out of 52\n",
      "\u001b[39m\u001b[1m\u001b[36mINFO: \u001b[39m\u001b[22m\u001b[36mDescriptor 31 out of 52\n",
      "\u001b[39m\u001b[1m\u001b[36mINFO: \u001b[39m\u001b[22m\u001b[1m\u001b[36mINFO: \u001b[39m\u001b[22m\u001b[36mDescriptor 4 out of 52\n",
      "\u001b[39m\u001b[36mDescriptor 40 out of 52\n",
      "\u001b[39m\u001b[1m\u001b[36mINFO: \u001b[39m\u001b[22m\u001b[36mDescriptor 36 out of 52\n",
      "\u001b[39m\u001b[1m\u001b[36mINFO: \u001b[39m\u001b[22m\u001b[36mDescriptor 6 out of 52\n",
      "\u001b[39m\u001b[1m\u001b[36mINFO: \u001b[39m\u001b[22m\u001b[36mDescriptor 51 out of 52\n",
      "\u001b[39m\u001b[1m\u001b[36mINFO: \u001b[39m\u001b[22m\u001b[36mDescriptor 12 out of 52\n",
      "\u001b[39m\u001b[1m\u001b[36mINFO: \u001b[39m\u001b[22m\u001b[1m\u001b[36mINFO: \u001b[39m\u001b[22m\u001b[36mDescriptor 24 out of 52\n",
      "\u001b[39m\u001b[36mDescriptor 17 out of 52\n",
      "\u001b[39m\u001b[1m\u001b[36mINFO: \u001b[39m\u001b[22m\u001b[36mDescriptor 42 out of 52\n",
      "\u001b[39m\u001b[1m\u001b[36mINFO: \u001b[39m\u001b[22m\u001b[1m\u001b[36mINFO: \u001b[39m\u001b[22m\u001b[1m\u001b[36mINFO: \u001b[39m\u001b[22m\u001b[36mDescriptor 34 out of 52\n",
      "\u001b[39m\u001b[1m\u001b[36mINFO: \u001b[39m\u001b[22m\u001b[1m\u001b[36mINFO: \u001b[39m\u001b[22m\u001b[1m\u001b[36mINFO: \u001b[39m\u001b[22m\u001b[1m\u001b[36mINFO: \u001b[39m\u001b[22m\u001b[36mDescriptor 48 out of 52\n",
      "\u001b[39m\u001b[1m\u001b[36mINFO: \u001b[39m\u001b[22m\u001b[36mDescriptor 30 out of 52\n",
      "\u001b[39m\u001b[36mDescriptor 9 out of 52\n",
      "\u001b[39m\u001b[36mDescriptor 23 out of 52\n",
      "\u001b[39m\u001b[36mDescriptor 41 out of 52\n",
      "\u001b[39m\u001b[36mDescriptor 29 out of 52\n",
      "\u001b[39m\u001b[36mDescriptor 26 out of 52\n",
      "\u001b[39m\u001b[1m\u001b[36mINFO: \u001b[39m\u001b[22m\u001b[36mDescriptor 49 out of 52\n",
      "\u001b[39m\u001b[1m\u001b[36mINFO: \u001b[39m\u001b[22m\u001b[36mDescriptor 10 out of 52\n",
      "\u001b[39m\u001b[1m\u001b[36mINFO: \u001b[39m\u001b[22m\u001b[36mDescriptor 2 out of 52\n",
      "\u001b[39m\u001b[1m\u001b[36mINFO: \u001b[39m\u001b[22m\u001b[36mDescriptor 33 out of 52\n",
      "\u001b[39m\u001b[1m\u001b[36mINFO: \u001b[39m\u001b[22m\u001b[1m\u001b[36mINFO: \u001b[39m\u001b[22m\u001b[36mDescriptor 50 out of 52\n",
      "\u001b[39m\u001b[36mDescriptor 39 out of 52\n",
      "\u001b[39m\u001b[1m\u001b[36mINFO: \u001b[39m\u001b[22m\u001b[36mDescriptor 43 out of 52\n",
      "\u001b[39m\u001b[1m\u001b[36mINFO: \u001b[39m\u001b[22m\u001b[1m\u001b[36mINFO: \u001b[39m\u001b[22m\u001b[1m\u001b[36mINFO: \u001b[39m\u001b[22m\u001b[1m\u001b[36mINFO: \u001b[39m\u001b[22m\u001b[1m\u001b[36mINFO: \u001b[39m\u001b[22m\u001b[36mDescriptor 44 out of 52\n",
      "\u001b[39m\u001b[36mDescriptor 38 out of 52\n",
      "\u001b[39m\u001b[36mDescriptor 47 out of 52\n",
      "\u001b[39m\u001b[36mDescriptor 1 out of 52\n",
      "\u001b[39m\u001b[36mDescriptor 28 out of 52\n",
      "\u001b[39m\u001b[1m\u001b[36mINFO: \u001b[39m\u001b[22m\u001b[36mDescriptor 52 out of 52\n",
      "\u001b[39m\u001b[1m\u001b[36mINFO: \u001b[39m\u001b[22m\u001b[36mDescriptor 51 out of 52\n",
      "\u001b[39m"
     ]
    },
    {
     "name": "stdout",
     "output_type": "stream",
     "text": [
      "  9.169631 seconds (3.28 M allocations: 220.865 MiB, 1.07% gc time)\n"
     ]
    }
   ],
   "source": [
    "host=\"localhost\" \n",
    "mysql_usr=\"root\"\n",
    "mysql_pswd=\"\"\n",
    "dbname=\"pubmed_obesity_2010_2012\"\n",
    "\n",
    "db = mysql_connect(host, mysql_usr, mysql_pswd, dbname)\n",
    "@time map_mesh_to_umls_async!(db, umls_user, umls_pswd; append_results=false)"
   ]
  },
  {
   "cell_type": "markdown",
   "metadata": {},
   "source": [
    "#### Explore output table"
   ]
  },
  {
   "cell_type": "code",
   "execution_count": 4,
   "metadata": {},
   "outputs": [
    {
     "data": {
      "text/plain": [
       "1-element Array{Any,1}:\n",
       " 56×2 DataFrames.DataFrame\n",
       "│ Row │ mesh                         │ umls                              │\n",
       "├─────┼──────────────────────────────┼───────────────────────────────────┤\n",
       "│ 1   │ \"Adult\"                      │ \"Age Group\"                       │\n",
       "│ 2   │ \"Age Distribution\"           │ \"Quantitative Concept\"            │\n",
       "│ 3   │ \"Aged\"                       │ \"Organism Attribute\"              │\n",
       "│ 4   │ \"Aged, 80 and over\"          │ \"Age Group\"                       │\n",
       "│ 5   │ \"Analysis of Variance\"       │ \"Quantitative Concept\"            │\n",
       "│ 6   │ \"Biomarkers\"                 │ \"Clinical Attribute\"              │\n",
       "│ 7   │ \"Body Mass Index\"            │ \"Diagnostic Procedure\"            │\n",
       "│ 8   │ \"Body Weight\"                │ \"Organism Attribute\"              │\n",
       "│ 9   │ \"C-Reactive Protein\"         │ \"Amino Acid, Peptide, or Protein\" │\n",
       "│ 10  │ \"C-Reactive Protein\"         │ \"Immunologic Factor\"              │\n",
       "│ 11  │ \"Case-Control Studies\"       │ \"Research Activity\"               │\n",
       "⋮\n",
       "│ 45  │ \"Severity of Illness Index\"  │ \"Quantitative Concept\"            │\n",
       "│ 46  │ \"Sex Distribution\"           │ \"Quantitative Concept\"            │\n",
       "│ 47  │ \"Sleep Apnea, Obstructive\"   │ \"Disease or Syndrome\"             │\n",
       "│ 48  │ \"Sports\"                     │ \"Daily or Recreational Activity\"  │\n",
       "│ 49  │ \"Surveys and Questionnaires\" │ \"Research Activity\"               │\n",
       "│ 50  │ \"Television\"                 │ \"Manufactured Object\"             │\n",
       "│ 51  │ \"Thyrotropin\"                │ \"Amino Acid, Peptide, or Protein\" │\n",
       "│ 52  │ \"Thyrotropin\"                │ \"Hormone\"                         │\n",
       "│ 53  │ \"Thyrotropin\"                │ \"Pharmacologic Substance\"         │\n",
       "│ 54  │ \"Waist Circumference\"        │ \"Clinical Attribute\"              │\n",
       "│ 55  │ \"Weight Gain\"                │ \"Finding\"                         │\n",
       "│ 56  │ \"Young Adult\"                │ \"Age Group\"                       │"
      ]
     },
     "execution_count": 4,
     "metadata": {},
     "output_type": "execute_result"
    }
   ],
   "source": [
    "BioMedQuery.DBUtils.db_query(db, \"SELECT * FROM mesh2umls;\")"
   ]
  },
  {
   "cell_type": "markdown",
   "metadata": {
    "collapsed": true
   },
   "source": [
    "#### Using SQLite as a backend"
   ]
  },
  {
   "cell_type": "code",
   "execution_count": 7,
   "metadata": {},
   "outputs": [
    {
     "ename": "LoadError",
     "evalue": "\u001b[91mSQLite.SQLiteException(\"no such table: mesh_descriptor\")\u001b[39m",
     "output_type": "error",
     "traceback": [
      "\u001b[91mSQLite.SQLiteException(\"no such table: mesh_descriptor\")\u001b[39m",
      "",
      "Stacktrace:",
      " [1] \u001b[1msqliteerror\u001b[22m\u001b[22m\u001b[1m(\u001b[22m\u001b[22m::SQLite.DB\u001b[1m)\u001b[22m\u001b[22m at \u001b[1m/Users/isa/.julia/v0.6/SQLite/src/SQLite.jl:26\u001b[22m\u001b[22m",
      " [2] \u001b[1mmacro expansion\u001b[22m\u001b[22m at \u001b[1m/Users/isa/.julia/v0.6/SQLite/src/consts.jl:11\u001b[22m\u001b[22m [inlined]",
      " [3] \u001b[1msqliteprepare\u001b[22m\u001b[22m\u001b[1m(\u001b[22m\u001b[22m::SQLite.DB, ::String, ::Base.RefValue{Ptr{Void}}, ::Base.RefValue{Ptr{Void}}\u001b[1m)\u001b[22m\u001b[22m at \u001b[1m/Users/isa/.julia/v0.6/SQLite/src/SQLite.jl:86\u001b[22m\u001b[22m",
      " [4] \u001b[1mType\u001b[22m\u001b[22m at \u001b[1m/Users/isa/.julia/v0.6/SQLite/src/SQLite.jl:73\u001b[22m\u001b[22m [inlined]",
      " [5] \u001b[1m#Source#14\u001b[22m\u001b[22m\u001b[1m(\u001b[22m\u001b[22m::Int64, ::Bool, ::Bool, ::Type{T} where T, ::SQLite.DB, ::String, ::Array{Any,1}\u001b[1m)\u001b[22m\u001b[22m at \u001b[1m/Users/isa/.julia/v0.6/SQLite/src/Source.jl:13\u001b[22m\u001b[22m",
      " [6] \u001b[1m(::Core.#kw#Type)\u001b[22m\u001b[22m\u001b[1m(\u001b[22m\u001b[22m::Array{Any,1}, ::Type{SQLite.Source}, ::SQLite.DB, ::String, ::Array{Any,1}\u001b[1m)\u001b[22m\u001b[22m at \u001b[1m./<missing>:0\u001b[22m\u001b[22m",
      " [7] \u001b[1m#query#16\u001b[22m\u001b[22m at \u001b[1m/Users/isa/.julia/v0.6/SQLite/src/Source.jl:124\u001b[22m\u001b[22m [inlined]",
      " [8] \u001b[1mquery\u001b[22m\u001b[22m\u001b[1m(\u001b[22m\u001b[22m::SQLite.DB, ::String, ::Type{DataFrames.DataFrame}\u001b[1m)\u001b[22m\u001b[22m at \u001b[1m/Users/isa/.julia/v0.6/SQLite/src/Source.jl:124\u001b[22m\u001b[22m",
      " [9] \u001b[1mdb_query\u001b[22m\u001b[22m at \u001b[1m/Users/isa/dropbox_brown/bcbi/julia_packages/BioMedQuery/src/DBUtils/sqlite_db_utils.jl:28\u001b[22m\u001b[22m [inlined]",
      " [10] \u001b[1m#map_mesh_to_umls_async!#8\u001b[22m\u001b[22m\u001b[1m(\u001b[22m\u001b[22m::Int64, ::Bool, ::Bool, ::Function, ::SQLite.DB, ::String, ::String\u001b[1m)\u001b[22m\u001b[22m at \u001b[1m/Users/isa/dropbox_brown/bcbi/julia_packages/BioMedQuery/src/Processes/pubmed_mesh_to_umls_map.jl:103\u001b[22m\u001b[22m",
      " [11] \u001b[1m(::BioMedQuery.Processes.#kw##map_mesh_to_umls_async!)\u001b[22m\u001b[22m\u001b[1m(\u001b[22m\u001b[22m::Array{Any,1}, ::BioMedQuery.Processes.#map_mesh_to_umls_async!, ::SQLite.DB, ::String, ::String\u001b[1m)\u001b[22m\u001b[22m at \u001b[1m./<missing>:0\u001b[22m\u001b[22m",
      " [12] \u001b[1minclude_string\u001b[22m\u001b[22m\u001b[1m(\u001b[22m\u001b[22m::String, ::String\u001b[1m)\u001b[22m\u001b[22m at \u001b[1m./loading.jl:515\u001b[22m\u001b[22m"
     ]
    }
   ],
   "source": [
    "db_path=\"./pubmed_obesity_2010_2012.db\"\n",
    "db = SQLite.DB(db_path)\n",
    "@time map_mesh_to_umls_async!(db, umls_user, umls_pswd; append_results=false)"
   ]
  },
  {
   "cell_type": "code",
   "execution_count": null,
   "metadata": {
    "collapsed": true
   },
   "outputs": [],
   "source": []
  }
 ],
 "metadata": {
  "kernelspec": {
   "display_name": "Julia 0.6.0",
   "language": "julia",
   "name": "julia-0.6"
  },
  "language_info": {
   "file_extension": ".jl",
   "mimetype": "application/julia",
   "name": "julia",
   "version": "0.6.0"
  }
 },
 "nbformat": 4,
 "nbformat_minor": 2
}
