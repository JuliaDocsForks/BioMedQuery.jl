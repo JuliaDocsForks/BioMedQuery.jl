{
 "cells": [
  {
   "cell_type": "markdown",
   "metadata": {},
   "source": [
    "### Map Medical Subject Headings (MeSH) to UMLS and save to database\n",
    "\n",
    "This example demonstrates the typical workflow to populate a MESH2UMLS database table relating all concets associated with all MESH terms in the input database. \n",
    "\n",
    "**Note:** This example uses the database created by examples/pubmed_search_and_save script/notebook\n",
    "\n",
    "The following backends are supported for storing the results:\n",
    "\n",
    "* [MySQL](#MySQL)\n",
    "* [SQLite](#SQLite)\n",
    "\n",
    "Authors: Isabel Restrepo <br>\n",
    "BCBI - Brown University <br>\n",
    "Version: Julia 0.6"
   ]
  },
  {
   "cell_type": "code",
   "execution_count": 1,
   "metadata": {},
   "outputs": [
    {
     "name": "stderr",
     "output_type": "stream",
     "text": [
      "WARNING: Method definition ==(Base.Nullable{S}, Base.Nullable{T}) in module Base at nullable.jl:238 overwritten in module NullableArrays at /Users/mrestrep/.julia/v0.6/NullableArrays/src/operators.jl:99.\n"
     ]
    }
   ],
   "source": [
    "using SQLite\n",
    "using MySQL\n",
    "using BioMedQuery.Processes\n",
    "using BioServices.UMLS"
   ]
  },
  {
   "cell_type": "code",
   "execution_count": 2,
   "metadata": {
    "collapsed": true
   },
   "outputs": [],
   "source": [
    "# credentials are environment variables (e.g set in your .juliarc)\n",
    "umls_user = ENV[\"UMLS_USER\"];\n",
    "umls_pswd = ENV[\"UMLS_PSSWD\"];\n",
    "results_dir = \"./results\";"
   ]
  },
  {
   "cell_type": "markdown",
   "metadata": {},
   "source": [
    "<a id='MySQL'></a>\n",
    "#### Using MySQL as a backend"
   ]
  },
  {
   "cell_type": "code",
   "execution_count": 3,
   "metadata": {},
   "outputs": [
    {
     "name": "stdout",
     "output_type": "stream",
     "text": [
      "----------Matching MESH to UMLS-----------\n",
      "Union{Missings.Missing, String}[\"Adult\", \"Age Distribution\", \"Aged\", \"Aged, 80 and over\", \"Analysis of Variance\", \"Biomarkers\", \"Body Mass Index\", \"Body Weight\", \"C-Reactive Protein\", \"Case-Control Studies\", \"Child\", \"Cross-Sectional Studies\", \"Exercise\", \"Fatigue\", \"Female\", \"Fibromyalgia\", \"Germany\", \"Health Status\", \"Humans\", \"Incidence\", \"Japan\", \"Logistic Models\", \"Male\", \"Metabolic Syndrome\", \"Middle Aged\", \"Nutrition Surveys\", \"Obesity\", \"Obesity, Abdominal\", \"Odds Ratio\", \"Overweight\", \"Pain\", \"Pain Measurement\", \"Pediatric Obesity\", \"Physical Fitness\", \"Prevalence\", \"Prognosis\", \"Quality of Life\", \"Reference Values\", \"Republic of Korea\", \"Risk Factors\", \"ROC Curve\", \"Sedentary Lifestyle\", \"Severity of Illness Index\", \"Sex Distribution\", \"Sleep Apnea, Obstructive\", \"Sports\", \"Surveys and Questionnaires\", \"Television\", \"Thyrotropin\", \"Waist Circumference\", \"Weight Gain\", \"Young Adult\"]\n"
     ]
    },
    {
     "name": "stderr",
     "output_type": "stream",
     "text": [
      "\u001b[1m\u001b[36mINFO: \u001b[39m\u001b[22m\u001b[36mUTS: Reading TGT from file\n",
      "\u001b[39m\u001b[1m\u001b[36mINFO: \u001b[39m\u001b[22m\u001b[36mDescriptor 50 out of 52: Waist Circumference\n",
      "\u001b[39m\u001b[1m\u001b[36mINFO: \u001b[39m\u001b[22m\u001b[36mDescriptor 35 out of 52: Prevalence\n",
      "\u001b[39m\u001b[1m\u001b[36mINFO: \u001b[39m\u001b[22m\u001b[36mDescriptor 45 out of 52: Sleep Apnea, Obstructive\n",
      "\u001b[39m\u001b[1m\u001b[36mINFO: \u001b[39m\u001b[22m\u001b[36mDescriptor 38 out of 52: Reference Values\n",
      "\u001b[39m\u001b[1m\u001b[36mINFO: \u001b[39m\u001b[22m\u001b[36mDescriptor 47 out of 52: Surveys and Questionnaires\n",
      "\u001b[39m\u001b[1m\u001b[36mINFO: \u001b[39m\u001b[22m\u001b[36mDescriptor 1 out of 52: Adult\n",
      "\u001b[39m\u001b[1m\u001b[36mINFO: \u001b[39m\u001b[22m\u001b[36mDescriptor 48 out of 52: Television\n",
      "\u001b[39m\u001b[1m\u001b[36mINFO: \u001b[39m\u001b[22m\u001b[36mDescriptor 5 out of 52: Analysis of Variance\n",
      "\u001b[39m\u001b[1m\u001b[36mINFO: \u001b[39m\u001b[22m\u001b[36mDescriptor 18 out of 52: Health Status\n",
      "\u001b[39m\u001b[1m\u001b[36mINFO: \u001b[39m\u001b[22m\u001b[36mDescriptor 21 out of 52: Japan\n",
      "\u001b[39m\u001b[1m\u001b[36mINFO: \u001b[39m\u001b[22m\u001b[36mDescriptor 14 out of 52: Fatigue\n",
      "\u001b[39m\u001b[1m\u001b[36mINFO: \u001b[39m\u001b[22m\u001b[36mDescriptor 2 out of 52: Age Distribution\n",
      "\u001b[39m\u001b[1m\u001b[36mINFO: \u001b[39m\u001b[22m\u001b[36mDescriptor 11 out of 52: Child\n",
      "\u001b[39m\u001b[1m\u001b[36mINFO: \u001b[39m\u001b[22m\u001b[36mDescriptor 41 out of 52: ROC Curve\n",
      "\u001b[39m\u001b[1m\u001b[36mINFO: \u001b[39m\u001b[22m\u001b[36mDescriptor 49 out of 52: Thyrotropin\n",
      "\u001b[39m\u001b[1m\u001b[36mINFO: \u001b[39m\u001b[22m\u001b[36mDescriptor 36 out of 52: Prognosis\n",
      "\u001b[39m\u001b[1m\u001b[36mINFO: \u001b[39m\u001b[22m\u001b[36mDescriptor 23 out of 52: Male\n",
      "\u001b[39m\u001b[1m\u001b[36mINFO: \u001b[39m\u001b[22m\u001b[36mDescriptor 9 out of 52: C-Reactive Protein\n",
      "\u001b[39m\u001b[1m\u001b[36mINFO: \u001b[39m\u001b[22m\u001b[36mDescriptor 44 out of 52: Sex Distribution\n",
      "\u001b[39m\u001b[1m\u001b[36mINFO: \u001b[39m\u001b[22m\u001b[36mDescriptor 7 out of 52: Body Mass Index\n",
      "\u001b[39m\u001b[1m\u001b[36mINFO: \u001b[39m\u001b[22m\u001b[36mDescriptor 27 out of 52: Obesity\n",
      "\u001b[39m\u001b[1m\u001b[36mINFO: \u001b[39m\u001b[22m\u001b[36mDescriptor 16 out of 52: Fibromyalgia\n",
      "\u001b[39m\u001b[1m\u001b[36mINFO: \u001b[39m\u001b[22m\u001b[36mDescriptor 25 out of 52: Middle Aged\n",
      "\u001b[39m\u001b[1m\u001b[36mINFO: \u001b[39m\u001b[22m\u001b[36mDescriptor 6 out of 52: Biomarkers\n",
      "\u001b[39m\u001b[1m\u001b[36mINFO: \u001b[39m\u001b[22m\u001b[36mDescriptor 12 out of 52: Cross-Sectional Studies\n",
      "\u001b[39m\u001b[1m\u001b[36mINFO: \u001b[39m\u001b[22m\u001b[36mDescriptor 43 out of 52: Severity of Illness Index\n",
      "\u001b[39m\u001b[1m\u001b[36mINFO: \u001b[39m\u001b[22m\u001b[36mDescriptor 51 out of 52: Weight Gain\n",
      "\u001b[39m\u001b[1m\u001b[36mINFO: \u001b[39m\u001b[22m\u001b[36mDescriptor 32 out of 52: Pain Measurement\n",
      "\u001b[39m\u001b[1m\u001b[36mINFO: \u001b[39m\u001b[22m\u001b[36mDescriptor 31 out of 52: Pain\n",
      "\u001b[39m\u001b[1m\u001b[36mINFO: \u001b[39m\u001b[22m\u001b[36mDescriptor 8 out of 52: Body Weight\n",
      "\u001b[39m\u001b[1m\u001b[36mINFO: \u001b[39m\u001b[22m\u001b[36mDescriptor 10 out of 52: Case-Control Studies\n",
      "\u001b[39m\u001b[1m\u001b[36mINFO: \u001b[39m\u001b[22m\u001b[36mDescriptor 20 out of 52: Incidence\n",
      "\u001b[39m\u001b[1m\u001b[36mINFO: \u001b[39m\u001b[22m\u001b[36mDescriptor 24 out of 52: Metabolic Syndrome\n",
      "\u001b[39m\u001b[1m\u001b[36mINFO: \u001b[39m\u001b[22m\u001b[36mDescriptor 28 out of 52: Obesity, Abdominal\n",
      "\u001b[39m\u001b[1m\u001b[36mINFO: \u001b[39m\u001b[22m\u001b[36mDescriptor 40 out of 52: Risk Factors\n",
      "\u001b[39m\u001b[1m\u001b[36mINFO: \u001b[39m\u001b[22m\u001b[36mDescriptor 37 out of 52: Quality of Life\n",
      "\u001b[39m\u001b[1m\u001b[36mINFO: \u001b[39m\u001b[22m\u001b[36mDescriptor 39 out of 52: Republic of Korea\n",
      "\u001b[39m\u001b[1m\u001b[36mINFO: \u001b[39m\u001b[22m\u001b[36mDescriptor 26 out of 52: Nutrition Surveys\n",
      "\u001b[39m\u001b[1m\u001b[36mINFO: \u001b[39m\u001b[22m\u001b[36mDescriptor 42 out of 52: Sedentary Lifestyle\n",
      "\u001b[39m\u001b[1m\u001b[36mINFO: \u001b[39m\u001b[22m\u001b[36mDescriptor 22 out of 52: Logistic Models\n",
      "\u001b[39m\u001b[1m\u001b[36mINFO: \u001b[39m\u001b[22m\u001b[36mDescriptor 30 out of 52: Overweight\n",
      "\u001b[39m\u001b[1m\u001b[36mINFO: \u001b[39m\u001b[22m\u001b[36mDescriptor 4 out of 52: Aged, 80 and over\n",
      "\u001b[39m\u001b[1m\u001b[36mINFO: \u001b[39m\u001b[22m\u001b[36mDescriptor 19 out of 52: Humans\n",
      "\u001b[39m\u001b[1m\u001b[36mINFO: \u001b[39m\u001b[22m\u001b[36mDescriptor 46 out of 52: Sports\n",
      "\u001b[39m\u001b[1m\u001b[36mINFO: \u001b[39m\u001b[22m\u001b[36mDescriptor 33 out of 52: Pediatric Obesity\n",
      "\u001b[39m\u001b[1m\u001b[36mINFO: \u001b[39m\u001b[22m\u001b[36mDescriptor 15 out of 52: Female\n",
      "\u001b[39m\u001b[1m\u001b[36mINFO: \u001b[39m\u001b[22m\u001b[36mDescriptor 13 out of 52: Exercise\n",
      "\u001b[39m\u001b[1m\u001b[36mINFO: \u001b[39m\u001b[22m\u001b[36mDescriptor 3 out of 52: Aged\n",
      "\u001b[39m\u001b[1m\u001b[36mINFO: \u001b[39m\u001b[22m\u001b[36mDescriptor 17 out of 52: Germany\n",
      "\u001b[39m\u001b[1m\u001b[36mINFO: \u001b[39m\u001b[22m\u001b[36mDescriptor 29 out of 52: Odds Ratio\n",
      "\u001b[39m\u001b[1m\u001b[36mINFO: \u001b[39m\u001b[22m\u001b[36mDescriptor 34 out of 52: Physical Fitness\n",
      "\u001b[39m\u001b[1m\u001b[36mINFO: \u001b[39m\u001b[22m\u001b[36mDescriptor 52 out of 52: Young Adult\n",
      "\u001b[39m\u001b[1m\u001b[36mINFO: \u001b[39m\u001b[22m\u001b[36mDescriptor 51 out of 52: Weight Gain\n",
      "\u001b[39m"
     ]
    },
    {
     "name": "stdout",
     "output_type": "stream",
     "text": [
      " 13.734499 seconds (6.02 M allocations: 334.539 MiB, 0.95% gc time)\n"
     ]
    }
   ],
   "source": [
    "host=\"127.0.0.1\" \n",
    "mysql_usr=\"root\"\n",
    "mysql_pswd=\"\"\n",
    "dbname=\"pubmed_obesity_2010_2012\"\n",
    "\n",
    "db_mysql = MySQL.connect(host, mysql_usr, mysql_pswd, db = dbname)\n",
    "@time map_mesh_to_umls_async!(db_mysql, umls_user, umls_pswd; append_results=false)"
   ]
  },
  {
   "cell_type": "markdown",
   "metadata": {},
   "source": [
    "#### Explore output table"
   ]
  },
  {
   "cell_type": "code",
   "execution_count": 4,
   "metadata": {},
   "outputs": [
    {
     "data": {
      "text/html": [
       "<table class=\"data-frame\"><thead><tr><th></th><th>mesh</th><th>umls</th></tr></thead><tbody><tr><th>1</th><td>Adult</td><td>Age Group</td></tr><tr><th>2</th><td>Age Distribution</td><td>Quantitative Concept</td></tr><tr><th>3</th><td>Aged</td><td>Organism Attribute</td></tr><tr><th>4</th><td>Aged, 80 and over</td><td>Age Group</td></tr><tr><th>5</th><td>Analysis of Variance</td><td>Quantitative Concept</td></tr><tr><th>6</th><td>Biomarkers</td><td>Clinical Attribute</td></tr><tr><th>7</th><td>Body Mass Index</td><td>Diagnostic Procedure</td></tr><tr><th>8</th><td>Body Weight</td><td>Organism Attribute</td></tr><tr><th>9</th><td>C-Reactive Protein</td><td>Amino Acid, Peptide, or Protein</td></tr><tr><th>10</th><td>C-Reactive Protein</td><td>Immunologic Factor</td></tr><tr><th>11</th><td>Case-Control Studies</td><td>Research Activity</td></tr><tr><th>12</th><td>Child</td><td>Age Group</td></tr><tr><th>13</th><td>Cross-Sectional Studies</td><td>Research Activity</td></tr><tr><th>14</th><td>Exercise</td><td>Daily or Recreational Activity</td></tr><tr><th>15</th><td>Fatigue</td><td>Sign or Symptom</td></tr><tr><th>16</th><td>Female</td><td>Population Group</td></tr><tr><th>17</th><td>Fibromyalgia</td><td>Disease or Syndrome</td></tr><tr><th>18</th><td>Germany</td><td>Geographic Area</td></tr><tr><th>19</th><td>Health Status</td><td>Qualitative Concept</td></tr><tr><th>20</th><td>Humans</td><td>Human</td></tr><tr><th>21</th><td>Incidence</td><td>Quantitative Concept</td></tr><tr><th>22</th><td>Japan</td><td>Geographic Area</td></tr><tr><th>23</th><td>Logistic Models</td><td>Intellectual Product</td></tr><tr><th>24</th><td>Logistic Models</td><td>Quantitative Concept</td></tr><tr><th>25</th><td>Male</td><td>Organism Attribute</td></tr><tr><th>26</th><td>Metabolic Syndrome</td><td>Disease or Syndrome</td></tr><tr><th>27</th><td>Middle Aged</td><td>Age Group</td></tr><tr><th>28</th><td>Nutrition Surveys</td><td>Research Activity</td></tr><tr><th>29</th><td>Obesity</td><td>Disease or Syndrome</td></tr><tr><th>30</th><td>Obesity, Abdominal</td><td>Finding</td></tr><tr><th>&vellip;</th><td>&vellip;</td><td>&vellip;</td></tr></tbody></table>"
      ],
      "text/plain": [
       "56×2 DataFrames.DataFrame\n",
       "│ Row │ mesh                       │ umls                            │\n",
       "├─────┼────────────────────────────┼─────────────────────────────────┤\n",
       "│ 1   │ Adult                      │ Age Group                       │\n",
       "│ 2   │ Age Distribution           │ Quantitative Concept            │\n",
       "│ 3   │ Aged                       │ Organism Attribute              │\n",
       "│ 4   │ Aged, 80 and over          │ Age Group                       │\n",
       "│ 5   │ Analysis of Variance       │ Quantitative Concept            │\n",
       "│ 6   │ Biomarkers                 │ Clinical Attribute              │\n",
       "│ 7   │ Body Mass Index            │ Diagnostic Procedure            │\n",
       "│ 8   │ Body Weight                │ Organism Attribute              │\n",
       "│ 9   │ C-Reactive Protein         │ Amino Acid, Peptide, or Protein │\n",
       "│ 10  │ C-Reactive Protein         │ Immunologic Factor              │\n",
       "│ 11  │ Case-Control Studies       │ Research Activity               │\n",
       "⋮\n",
       "│ 45  │ Severity of Illness Index  │ Quantitative Concept            │\n",
       "│ 46  │ Sex Distribution           │ Quantitative Concept            │\n",
       "│ 47  │ Sleep Apnea, Obstructive   │ Disease or Syndrome             │\n",
       "│ 48  │ Sports                     │ Daily or Recreational Activity  │\n",
       "│ 49  │ Surveys and Questionnaires │ Research Activity               │\n",
       "│ 50  │ Television                 │ Manufactured Object             │\n",
       "│ 51  │ Thyrotropin                │ Amino Acid, Peptide, or Protein │\n",
       "│ 52  │ Thyrotropin                │ Hormone                         │\n",
       "│ 53  │ Thyrotropin                │ Pharmacologic Substance         │\n",
       "│ 54  │ Waist Circumference        │ Clinical Attribute              │\n",
       "│ 55  │ Weight Gain                │ Finding                         │\n",
       "│ 56  │ Young Adult                │ Age Group                       │"
      ]
     },
     "execution_count": 4,
     "metadata": {},
     "output_type": "execute_result"
    }
   ],
   "source": [
    "BioMedQuery.DBUtils.db_query(db_mysql, \"SELECT * FROM mesh2umls;\")"
   ]
  },
  {
   "cell_type": "markdown",
   "metadata": {
    "collapsed": true
   },
   "source": [
    "<a id='SQLite'></a>\n",
    "#### Using SQLite as a backend"
   ]
  },
  {
   "cell_type": "code",
   "execution_count": 5,
   "metadata": {},
   "outputs": [
    {
     "name": "stdout",
     "output_type": "stream",
     "text": [
      "----------Matching MESH to UMLS-----------\n",
      "Union{Missings.Missing, String}[\"Adult\", \"Aged\", \"Aged, 80 and over\", \"Analysis of Variance\", \"Body Weight\", \"C-Reactive Protein\", \"Child\", \"Cross-Sectional Studies\", \"Fatigue\", \"Female\", \"Fibromyalgia\", \"Germany\", \"Health Status\", \"Humans\", \"Japan\", \"Male\", \"Middle Aged\", \"Nutrition Surveys\", \"Obesity\", \"Pain\", \"Pain Measurement\", \"Physical Fitness\", \"Prognosis\", \"Quality of Life\", \"Surveys and Questionnaires\", \"Reference Values\", \"Risk Factors\", \"ROC Curve\", \"Severity of Illness Index\", \"Sports\", \"Television\", \"Thyrotropin\", \"Biomarkers\", \"Weight Gain\", \"Exercise\", \"Body Mass Index\", \"Incidence\", \"Prevalence\", \"Logistic Models\", \"Odds Ratio\", \"Case-Control Studies\", \"Age Distribution\", \"Sex Distribution\", \"Sleep Apnea, Obstructive\", \"Metabolic Syndrome\", \"Overweight\", \"Waist Circumference\", \"Young Adult\", \"Obesity, Abdominal\", \"Republic of Korea\", \"Sedentary Lifestyle\", \"Pediatric Obesity\"]\n"
     ]
    },
    {
     "name": "stderr",
     "output_type": "stream",
     "text": [
      "\u001b[1m\u001b[36mINFO: \u001b[39m\u001b[22m\u001b[36mUTS: Reading TGT from file\n",
      "\u001b[39m\u001b[1m\u001b[36mINFO: \u001b[39m\u001b[22m\u001b[36mDescriptor 1 out of 52: Adult\n",
      "\u001b[39m\u001b[1m\u001b[36mINFO: \u001b[39m\u001b[22m\u001b[36mDescriptor 45 out of 52: Metabolic Syndrome\n",
      "\u001b[39m\u001b[1m\u001b[36mINFO: \u001b[39m\u001b[22m\u001b[36mDescriptor 5 out of 52: Body Weight\n",
      "\u001b[39m\u001b[1m\u001b[36mINFO: \u001b[39m\u001b[22m\u001b[36mDescriptor 13 out of 52: Health Status\n",
      "\u001b[39m\u001b[1m\u001b[36mINFO: \u001b[39m\u001b[22m\u001b[36mDescriptor 48 out of 52: Young Adult\n",
      "\u001b[39m\u001b[1m\u001b[36mINFO: \u001b[39m\u001b[22m\u001b[36mDescriptor 3 out of 52: Aged, 80 and over\n",
      "\u001b[39m\u001b[1m\u001b[36mINFO: \u001b[39m\u001b[22m\u001b[36mDescriptor 11 out of 52: Fibromyalgia\n",
      "\u001b[39m\u001b[1m\u001b[36mINFO: \u001b[39m\u001b[22m\u001b[36mDescriptor 24 out of 52: Quality of Life\n",
      "\u001b[39m\u001b[1m\u001b[36mINFO: \u001b[39m\u001b[22m\u001b[36mDescriptor 12 out of 52: Germany\n",
      "\u001b[39m\u001b[1m\u001b[36mINFO: \u001b[39m\u001b[22m\u001b[36mDescriptor 16 out of 52: Male\n",
      "\u001b[39m\u001b[1m\u001b[36mINFO: \u001b[39m\u001b[22m\u001b[36mDescriptor 10 out of 52: Female\n",
      "\u001b[39m\u001b[1m\u001b[36mINFO: \u001b[39m\u001b[22m\u001b[36mDescriptor 31 out of 52: Television\n",
      "\u001b[39m\u001b[1m\u001b[36mINFO: \u001b[39m\u001b[22m\u001b[36mDescriptor 27 out of 52: Risk Factors\n",
      "\u001b[39m\u001b[1m\u001b[36mINFO: \u001b[39m\u001b[22m\u001b[36mDescriptor 14 out of 52: Humans\n",
      "\u001b[39m\u001b[1m\u001b[36mINFO: \u001b[39m\u001b[22m\u001b[36mDescriptor 7 out of 52: Child\n",
      "\u001b[39m\u001b[1m\u001b[36mINFO: \u001b[39m\u001b[22m\u001b[36mDescriptor 49 out of 52: Obesity, Abdominal\n",
      "\u001b[39m\u001b[1m\u001b[36mINFO: \u001b[39m\u001b[22m\u001b[36mDescriptor 19 out of 52: Obesity\n",
      "\u001b[39m\u001b[1m\u001b[36mINFO: \u001b[39m\u001b[22m\u001b[36mDescriptor 2 out of 52: Aged\n",
      "\u001b[39m\u001b[1m\u001b[36mINFO: \u001b[39m\u001b[22m\u001b[36mDescriptor 51 out of 52: Sedentary Lifestyle\n",
      "\u001b[39m\u001b[1m\u001b[36mINFO: \u001b[39m\u001b[22m\u001b[36mDescriptor 30 out of 52: Sports\n",
      "\u001b[39m\u001b[1m\u001b[36mINFO: \u001b[39m\u001b[22m\u001b[36mDescriptor 34 out of 52: Weight Gain\n",
      "\u001b[39m\u001b[1m\u001b[36mINFO: \u001b[39m\u001b[22m\u001b[36mDescriptor 37 out of 52: Incidence\n",
      "\u001b[39m\u001b[1m\u001b[36mINFO: \u001b[39m\u001b[22m\u001b[36mDescriptor 25 out of 52: Surveys and Questionnaires\n",
      "\u001b[39m\u001b[1m\u001b[36mINFO: \u001b[39m\u001b[22m\u001b[36mDescriptor 9 out of 52: Fatigue\n",
      "\u001b[39m\u001b[1m\u001b[36mINFO: \u001b[39m\u001b[22m\u001b[36mDescriptor 44 out of 52: Sleep Apnea, Obstructive\n",
      "\u001b[39m\u001b[1m\u001b[36mINFO: \u001b[39m\u001b[22m\u001b[36mDescriptor 46 out of 52: Overweight\n",
      "\u001b[39m\u001b[1m\u001b[36mINFO: \u001b[39m\u001b[22m\u001b[36mDescriptor 20 out of 52: Pain\n",
      "\u001b[39m\u001b[1m\u001b[36mINFO: \u001b[39m\u001b[22m\u001b[36mDescriptor 23 out of 52: Prognosis\n",
      "\u001b[39m\u001b[1m\u001b[36mINFO: \u001b[39m\u001b[22m\u001b[36mDescriptor 42 out of 52: Age Distribution\n",
      "\u001b[39m\u001b[1m\u001b[36mINFO: \u001b[39m\u001b[22m\u001b[36mDescriptor 22 out of 52: Physical Fitness\n",
      "\u001b[39m\u001b[1m\u001b[36mINFO: \u001b[39m\u001b[22m\u001b[36mDescriptor 8 out of 52: Cross-Sectional Studies\n",
      "\u001b[39m\u001b[1m\u001b[36mINFO: \u001b[39m\u001b[22m\u001b[36mDescriptor 32 out of 52: Thyrotropin\n",
      "\u001b[39m\u001b[1m\u001b[36mINFO: \u001b[39m\u001b[22m\u001b[36mDescriptor 40 out of 52: Odds Ratio\n",
      "\u001b[39m\u001b[1m\u001b[36mINFO: \u001b[39m\u001b[22m\u001b[36mDescriptor 26 out of 52: Reference Values\n",
      "\u001b[39m\u001b[1m\u001b[36mINFO: \u001b[39m\u001b[22m\u001b[36mDescriptor 21 out of 52: Pain Measurement\n",
      "\u001b[39m\u001b[1m\u001b[36mINFO: \u001b[39m\u001b[22m\u001b[36mDescriptor 28 out of 52: ROC Curve\n",
      "\u001b[39m\u001b[1m\u001b[36mINFO: \u001b[39m\u001b[22m\u001b[36mDescriptor 29 out of 52: Severity of Illness Index\n",
      "\u001b[39m\u001b[1m\u001b[36mINFO: \u001b[39m\u001b[22m\u001b[36mDescriptor 47 out of 52: Waist Circumference\n",
      "\u001b[39m\u001b[1m\u001b[36mINFO: \u001b[39m\u001b[22m\u001b[36mDescriptor 18 out of 52: Nutrition Surveys\n",
      "\u001b[39m\u001b[1m\u001b[36mINFO: \u001b[39m\u001b[22m\u001b[36mDescriptor 36 out of 52: Body Mass Index\n",
      "\u001b[39m\u001b[1m\u001b[36mINFO: \u001b[39m\u001b[22m\u001b[36mDescriptor 43 out of 52: Sex Distribution\n",
      "\u001b[39m\u001b[1m\u001b[36mINFO: \u001b[39m\u001b[22m\u001b[36mDescriptor 38 out of 52: Prevalence\n",
      "\u001b[39m\u001b[1m\u001b[36mINFO: \u001b[39m\u001b[22m\u001b[36mDescriptor 50 out of 52: Republic of Korea\n",
      "\u001b[39m\u001b[1m\u001b[36mINFO: \u001b[39m\u001b[22m\u001b[36mDescriptor 39 out of 52: Logistic Models\n",
      "\u001b[39m\u001b[1m\u001b[36mINFO: \u001b[39m\u001b[22m\u001b[36mDescriptor 33 out of 52: Biomarkers\n",
      "\u001b[39m\u001b[1m\u001b[36mINFO: \u001b[39m\u001b[22m\u001b[36mDescriptor 6 out of 52: C-Reactive Protein\n",
      "\u001b[39m\u001b[1m\u001b[36mINFO: \u001b[39m\u001b[22m\u001b[36mDescriptor 15 out of 52: Japan\n",
      "\u001b[39m\u001b[1m\u001b[36mINFO: \u001b[39m\u001b[22m\u001b[36mDescriptor 4 out of 52: Analysis of Variance\n",
      "\u001b[39m\u001b[1m\u001b[36mINFO: \u001b[39m\u001b[22m\u001b[36mDescriptor 35 out of 52: Exercise\n",
      "\u001b[39m\u001b[1m\u001b[36mINFO: \u001b[39m\u001b[22m\u001b[36mDescriptor 17 out of 52: Middle Aged\n",
      "\u001b[39m\u001b[1m\u001b[36mINFO: \u001b[39m\u001b[22m\u001b[36mDescriptor 41 out of 52: Case-Control Studies\n",
      "\u001b[39m\u001b[1m\u001b[36mINFO: \u001b[39m\u001b[22m\u001b[36mDescriptor 52 out of 52: Pediatric Obesity\n",
      "\u001b[39m\u001b[1m\u001b[36mINFO: \u001b[39m\u001b[22m\u001b[36mDescriptor 51 out of 52: Sedentary Lifestyle\n",
      "\u001b[39m"
     ]
    },
    {
     "name": "stdout",
     "output_type": "stream",
     "text": [
      "  7.806124 seconds (1.60 M allocations: 99.717 MiB, 0.43% gc time)\n"
     ]
    }
   ],
   "source": [
    "db_path=\"$(results_dir)/pubmed_obesity_2010_2012.db\"\n",
    "db_sqlite = SQLite.DB(db_path)\n",
    "@time map_mesh_to_umls_async!(db_sqlite, umls_user, umls_pswd; append_results=false)"
   ]
  },
  {
   "cell_type": "code",
   "execution_count": 6,
   "metadata": {},
   "outputs": [
    {
     "data": {
      "text/html": [
       "<table class=\"data-frame\"><thead><tr><th></th><th>mesh</th><th>umls</th></tr></thead><tbody><tr><th>1</th><td>Young Adult</td><td>Age Group</td></tr><tr><th>2</th><td>Health Status</td><td>Qualitative Concept</td></tr><tr><th>3</th><td>Metabolic Syndrome</td><td>Disease or Syndrome</td></tr><tr><th>4</th><td>Body Weight</td><td>Organism Attribute</td></tr><tr><th>5</th><td>Adult</td><td>Age Group</td></tr><tr><th>6</th><td>Female</td><td>Population Group</td></tr><tr><th>7</th><td>Humans</td><td>Human</td></tr><tr><th>8</th><td>Germany</td><td>Geographic Area</td></tr><tr><th>9</th><td>Male</td><td>Organism Attribute</td></tr><tr><th>10</th><td>Quality of Life</td><td>Idea or Concept</td></tr><tr><th>11</th><td>Aged, 80 and over</td><td>Age Group</td></tr><tr><th>12</th><td>Obesity, Abdominal</td><td>Finding</td></tr><tr><th>13</th><td>Fibromyalgia</td><td>Disease or Syndrome</td></tr><tr><th>14</th><td>Obesity</td><td>Disease or Syndrome</td></tr><tr><th>15</th><td>Surveys and Questionnaires</td><td>Research Activity</td></tr><tr><th>16</th><td>Sports</td><td>Daily or Recreational Activity</td></tr><tr><th>17</th><td>Risk Factors</td><td>Finding</td></tr><tr><th>18</th><td>Child</td><td>Age Group</td></tr><tr><th>19</th><td>Television</td><td>Manufactured Object</td></tr><tr><th>20</th><td>Aged</td><td>Organism Attribute</td></tr><tr><th>21</th><td>Sedentary Lifestyle</td><td>Finding</td></tr><tr><th>22</th><td>Overweight</td><td>Finding</td></tr><tr><th>23</th><td>Physical Fitness</td><td>Idea or Concept</td></tr><tr><th>24</th><td>Incidence</td><td>Quantitative Concept</td></tr><tr><th>25</th><td>Nutrition Surveys</td><td>Research Activity</td></tr><tr><th>26</th><td>Pain Measurement</td><td>Diagnostic Procedure</td></tr><tr><th>27</th><td>Fatigue</td><td>Sign or Symptom</td></tr><tr><th>28</th><td>Waist Circumference</td><td>Clinical Attribute</td></tr><tr><th>29</th><td>ROC Curve</td><td>Quantitative Concept</td></tr><tr><th>30</th><td>Prognosis</td><td>Health Care Activity</td></tr><tr><th>&vellip;</th><td>&vellip;</td><td>&vellip;</td></tr></tbody></table>"
      ],
      "text/plain": [
       "56×2 DataFrames.DataFrame\n",
       "│ Row │ mesh                     │ umls                            │\n",
       "├─────┼──────────────────────────┼─────────────────────────────────┤\n",
       "│ 1   │ Young Adult              │ Age Group                       │\n",
       "│ 2   │ Health Status            │ Qualitative Concept             │\n",
       "│ 3   │ Metabolic Syndrome       │ Disease or Syndrome             │\n",
       "│ 4   │ Body Weight              │ Organism Attribute              │\n",
       "│ 5   │ Adult                    │ Age Group                       │\n",
       "│ 6   │ Female                   │ Population Group                │\n",
       "│ 7   │ Humans                   │ Human                           │\n",
       "│ 8   │ Germany                  │ Geographic Area                 │\n",
       "│ 9   │ Male                     │ Organism Attribute              │\n",
       "│ 10  │ Quality of Life          │ Idea or Concept                 │\n",
       "│ 11  │ Aged, 80 and over        │ Age Group                       │\n",
       "⋮\n",
       "│ 45  │ Age Distribution         │ Quantitative Concept            │\n",
       "│ 46  │ Cross-Sectional Studies  │ Research Activity               │\n",
       "│ 47  │ Reference Values         │ Quantitative Concept            │\n",
       "│ 48  │ C-Reactive Protein       │ Immunologic Factor              │\n",
       "│ 49  │ C-Reactive Protein       │ Amino Acid, Peptide, or Protein │\n",
       "│ 50  │ Japan                    │ Geographic Area                 │\n",
       "│ 51  │ Analysis of Variance     │ Quantitative Concept            │\n",
       "│ 52  │ Body Mass Index          │ Diagnostic Procedure            │\n",
       "│ 53  │ Sleep Apnea, Obstructive │ Disease or Syndrome             │\n",
       "│ 54  │ Case-Control Studies     │ Research Activity               │\n",
       "│ 55  │ Biomarkers               │ Clinical Attribute              │\n",
       "│ 56  │ Pediatric Obesity        │ Disease or Syndrome             │"
      ]
     },
     "execution_count": 6,
     "metadata": {},
     "output_type": "execute_result"
    }
   ],
   "source": [
    "BioMedQuery.DBUtils.db_query(db_sqlite, \"SELECT * FROM mesh2umls;\")"
   ]
  },
  {
   "cell_type": "code",
   "execution_count": null,
   "metadata": {
    "collapsed": true
   },
   "outputs": [],
   "source": []
  }
 ],
 "metadata": {
  "kernelspec": {
   "display_name": "Julia 0.6.2",
   "language": "julia",
   "name": "julia-0.6"
  },
  "language_info": {
   "file_extension": ".jl",
   "mimetype": "application/julia",
   "name": "julia",
   "version": "0.6.2"
  }
 },
 "nbformat": 4,
 "nbformat_minor": 2
}
