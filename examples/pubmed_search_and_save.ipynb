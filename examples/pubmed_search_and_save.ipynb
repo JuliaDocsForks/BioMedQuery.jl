{
 "cells": [
  {
   "cell_type": "markdown",
   "metadata": {},
   "source": [
    "# Search pubmed and save results\n",
    "\n",
    "This example demonstrates the typical workflow to query pubmed and store\n",
    "the results. The following backends are supported for storing the results:\n",
    "\n",
    "* [MySQL](#MySQL)\n",
    "* [SQLite](#SQLite)\n",
    "* [Citation (endnote/bibtex)](#citations)\n",
    "\n",
    "Authors: Isabel Restrepo <br>\n",
    "BCBI - Brown University <br>\n",
    "Version: Julia 0.6"
   ]
  },
  {
   "cell_type": "code",
   "execution_count": 1,
   "metadata": {},
   "outputs": [
    {
     "name": "stderr",
     "output_type": "stream",
     "text": [
      "WARNING: Method definition ==(Base.Nullable{S}, Base.Nullable{T}) in module Base at nullable.jl:238 overwritten in module NullableArrays at /Users/isa/.julia/v0.6/NullableArrays/src/operators.jl:99.\n"
     ]
    }
   ],
   "source": [
    "using BioMedQuery.Processes\n",
    "using BioMedQuery.PubMed"
   ]
  },
  {
   "cell_type": "code",
   "execution_count": 2,
   "metadata": {},
   "outputs": [],
   "source": [
    "email= \"\" #Only needed if you want to contact NCBI with inqueries\n",
    "search_term=\"(obesity[MeSH Major Topic]) AND (\\\"2010\\\"[Date - Publication] : \\\"2012\\\"[Date - Publication])\"\n",
    "max_articles = 5\n",
    "results_dir = \"./results\"\n",
    "verbose = false;"
   ]
  },
  {
   "cell_type": "markdown",
   "metadata": {},
   "source": [
    "<a id='MySQL'></a>\n",
    "## MySQL backend"
   ]
  },
  {
   "cell_type": "code",
   "execution_count": 3,
   "metadata": {},
   "outputs": [
    {
     "name": "stdout",
     "output_type": "stream",
     "text": [
      "Getting 5 articles, starting at index 0\n",
      "------ESearch--------\n",
      "------EFetch--------\n",
      "------Save to database--------\n",
      "Initializing MySQL Database\n",
      "Set to overwrite MySQL database pubmed_obesity_2010_2012\n",
      "Database pubmed_obesity_2010_2012 created and initialized\n",
      "Saving 5 articles to database\n",
      "Finished searching, total number of articles: 5\n"
     ]
    },
    {
     "data": {
      "text/plain": [
       "MySQL Handle\n",
       "------------\n",
       "Host: localhost\n",
       "User: root\n",
       "DB:   pubmed_obesity_2010_2012\n"
      ]
     },
     "execution_count": 3,
     "metadata": {},
     "output_type": "execute_result"
    }
   ],
   "source": [
    "mysql_config = Dict(:host=>\"localhost\",\n",
    "                    :dbname=>\"pubmed_obesity_2010_2012\",\n",
    "                    :username=>\"root\",\n",
    "                    :pswd=>\"\",\n",
    "                    :overwrite=>true)\n",
    "db = pubmed_search_and_save(email, search_term, max_articles,\n",
    "    save_efetch_mysql, mysql_config, verbose)"
   ]
  },
  {
   "cell_type": "markdown",
   "metadata": {},
   "source": [
    "### Access all PMIDS"
   ]
  },
  {
   "cell_type": "code",
   "execution_count": 4,
   "metadata": {},
   "outputs": [
    {
     "data": {
      "text/plain": [
       "5-element DataArrays.DataArray{Int32,1}:\n",
       " 24315250\n",
       " 24444198\n",
       " 24533500\n",
       " 24694474\n",
       " 25548090"
      ]
     },
     "metadata": {},
     "output_type": "display_data"
    }
   ],
   "source": [
    "display(all_pmids(db))"
   ]
  },
  {
   "cell_type": "markdown",
   "metadata": {},
   "source": [
    "### Explore tables\n",
    "\n",
    "* You may use the MySQL command directly or you can use BioMedQuery.DBUtils for a common interface to MySQL/SQLite"
   ]
  },
  {
   "cell_type": "code",
   "execution_count": 5,
   "metadata": {},
   "outputs": [
    {
     "name": "stdout",
     "output_type": "stream",
     "text": [
      "5×3 DataFrames.DataFrame\n",
      "│ Row │ id │ forename            │ lastname          │\n",
      "├─────┼────┼─────────────────────┼───────────────────┤\n",
      "│ 1   │ 31 │ \"A\"                 │ \"Carbonell-Baeza\" │\n",
      "│ 2   │ 26 │ \"Alexandre Paulino\" │ \"de Faria\"        │\n",
      "│ 3   │ 23 │ \"Andrea Maculano\"   │ \"Esteves\"         │\n",
      "│ 4   │ 32 │ \"C\"                 │ \"Gatto-Cardia\"    │\n",
      "│ 5   │ 24 │ \"Carolina\"          │ \"Ackel-D'Elia\"    │\n",
      "5×2 DataFrames.DataFrame\n",
      "│ Row │ aid │ pmid     │\n",
      "├─────┼─────┼──────────┤\n",
      "│ 1   │ 29  │ 24315250 │\n",
      "│ 2   │ 30  │ 24315250 │\n",
      "│ 3   │ 31  │ 24315250 │\n",
      "│ 4   │ 32  │ 24315250 │\n",
      "│ 5   │ 33  │ 24315250 │\n",
      "5×2 DataFrames.DataFrame\n",
      "│ Row │ id    │ name                   │\n",
      "├─────┼───────┼────────────────────────┤\n",
      "│ 1   │ 328   │ \"Adult\"                │\n",
      "│ 2   │ 17677 │ \"Age Distribution\"     │\n",
      "│ 3   │ 368   │ \"Aged\"                 │\n",
      "│ 4   │ 369   │ \"Aged, 80 and over\"    │\n",
      "│ 5   │ 704   │ \"Analysis of Variance\" │\n",
      "5×2 DataFrames.DataFrame\n",
      "│ Row │ id  │ name            │\n",
      "├─────┼─────┼─────────────────┤\n",
      "│ 1   │ 32  │ \"analysis\"      │\n",
      "│ 2   │ 97  │ \"blood\"         │\n",
      "│ 3   │ 150 │ \"complications\" │\n",
      "│ 4   │ 453 │ \"epidemiology\"  │\n",
      "│ 5   │ 208 │ \"ethnology\"     │\n",
      "5×6 DataFrames.DataFrame\n",
      "│ Row │ id │ pmid     │ did   │ qid │ dmjr │ qmjr │\n",
      "├─────┼────┼──────────┼───────┼─────┼──────┼──────┤\n",
      "│ 1   │ 1  │ 25548090 │ 17677 │ NA  │ NA   │ NA   │\n",
      "│ 2   │ 2  │ 25548090 │ 368   │ NA  │ NA   │ NA   │\n",
      "│ 3   │ 3  │ 25548090 │ 369   │ NA  │ NA   │ NA   │\n",
      "│ 4   │ 4  │ 25548090 │ 5260  │ NA  │ NA   │ NA   │\n",
      "│ 5   │ 5  │ 25548090 │ 6801  │ NA  │ NA   │ NA   │\n"
     ]
    }
   ],
   "source": [
    "tables = [\"author\", \"author2article\", \"mesh_descriptor\",\n",
    "\"mesh_qualifier\", \"mesh_heading\"]\n",
    "\n",
    "for t in tables\n",
    "    query_str = \"SELECT * FROM \"*t*\" LIMIT 5;\"\n",
    "    q = BioMedQuery.DBUtils.db_query(db, query_str)\n",
    "    println(q)\n",
    "end"
   ]
  },
  {
   "cell_type": "markdown",
   "metadata": {
    "collapsed": true
   },
   "source": [
    "<a id='SQLite'></a>\n",
    "## SQLite backend"
   ]
  },
  {
   "cell_type": "code",
   "execution_count": null,
   "metadata": {},
   "outputs": [
    {
     "name": "stdout",
     "output_type": "stream",
     "text": [
      "Getting 5 articles, starting at index 0\n",
      "------ESearch--------\n",
      "------EFetch--------\n",
      "------Save to database--------\n",
      "Initializing SQLite Database\n"
     ]
    }
   ],
   "source": [
    "sqlite_config = Dict(:db_path=>\"$(results_dir)/pubmed_obesity_2010_2012.db\",\n",
    "              :overwrite=>true)\n",
    "db_sqlite = pubmed_search_and_save(email, search_term, max_articles,\n",
    "    save_efetch_sqlite, sqlite_config, verbose)"
   ]
  },
  {
   "cell_type": "markdown",
   "metadata": {},
   "source": [
    "### Access all PMIDS"
   ]
  },
  {
   "cell_type": "code",
   "execution_count": null,
   "metadata": {},
   "outputs": [],
   "source": [
    "display(all_pmids(db_sqlite))"
   ]
  },
  {
   "cell_type": "markdown",
   "metadata": {},
   "source": [
    "### Explore tables\n",
    "\n",
    "* You may use the SQLite commands directly or you can use BioMedQuery.DBUtils for a common interface to MySQL/SQLite"
   ]
  },
  {
   "cell_type": "code",
   "execution_count": null,
   "metadata": {},
   "outputs": [],
   "source": [
    "tables = [\"author\", \"author2article\", \"mesh_descriptor\",\n",
    "\"mesh_qualifier\", \"mesh_heading\"]\n",
    "\n",
    "for t in tables\n",
    "    query_str = \"SELECT * FROM \"*t*\" LIMIT 5;\"\n",
    "    q = BioMedQuery.DBUtils.db_query(db_sqlite, query_str)\n",
    "    println(q)\n",
    "end"
   ]
  },
  {
   "cell_type": "markdown",
   "metadata": {
    "collapsed": true
   },
   "source": [
    "<a id='citations'></a>\n",
    "\n",
    "## Citations\n",
    "\n",
    "* Citation type can be \"endnote\" or \"bibtex\""
   ]
  },
  {
   "cell_type": "code",
   "execution_count": null,
   "metadata": {},
   "outputs": [],
   "source": [
    "enw_file = \"$(results_dir)/pubmed_obesity_2010_2012.enw\"\n",
    "endnote_config = Dict(:type => \"endnote\", \n",
    "                      :output_file => enw_file, \n",
    "                      :overwrite=> true)\n",
    "pubmed_search_and_save(email, search_term, max_articles,\n",
    "    save_article_citations, endnote_config, verbose);"
   ]
  },
  {
   "cell_type": "code",
   "execution_count": null,
   "metadata": {},
   "outputs": [],
   "source": [
    "println(readstring(enw_file))"
   ]
  },
  {
   "cell_type": "code",
   "execution_count": null,
   "metadata": {
    "collapsed": true
   },
   "outputs": [],
   "source": []
  }
 ],
 "metadata": {
  "kernelspec": {
   "display_name": "Julia 0.6.0",
   "language": "julia",
   "name": "julia-0.6"
  },
  "language_info": {
   "file_extension": ".jl",
   "mimetype": "application/julia",
   "name": "julia",
   "version": "0.6.0"
  }
 },
 "nbformat": 4,
 "nbformat_minor": 2
}
