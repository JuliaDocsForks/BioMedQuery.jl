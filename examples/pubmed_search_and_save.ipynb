{
 "cells": [
  {
   "cell_type": "markdown",
   "metadata": {},
   "source": [
    "# Search PubMed and save results\n",
    "\n",
    "This example demonstrates the typical workflow to search PubMed and store\n",
    "the results in a database\n",
    "\n",
    "Authors: Isabel Restrepo <br>\n",
    "BCBI - Brown University <br>\n",
    "Version: Julia 0.6"
   ]
  },
  {
   "cell_type": "code",
   "execution_count": 1,
   "metadata": {},
   "outputs": [
    {
     "name": "stderr",
     "output_type": "stream",
     "text": [
      "WARNING: Method definition ==(Base.Nullable{S}, Base.Nullable{T}) in module Base at nullable.jl:238 overwritten in module NullableArrays at /Users/isa/.julia/v0.6/NullableArrays/src/operators.jl:99.\n"
     ]
    }
   ],
   "source": [
    "using BioMedQuery.Processes\n",
    "using BioMedQuery.PubMed"
   ]
  },
  {
   "cell_type": "code",
   "execution_count": 2,
   "metadata": {},
   "outputs": [],
   "source": [
    "email= \"\" #Only needed if you want to contact NCBI with inqueries\n",
    "search_term=\"(obesity[MeSH Major Topic]) AND (\\\"2010\\\"[Date - Publication] : \\\"2012\\\"[Date - Publication])\"\n",
    "max_articles = 20\n",
    "results_dir = \"./results\";"
   ]
  },
  {
   "cell_type": "markdown",
   "metadata": {},
   "source": [
    "## Save to MySQL"
   ]
  },
  {
   "cell_type": "code",
   "execution_count": 3,
   "metadata": {},
   "outputs": [
    {
     "name": "stdout",
     "output_type": "stream",
     "text": [
      "Getting 20 articles, starting at index 0\n",
      "------ESearch--------\n",
      "------EFetch--------\n",
      "------Save to database--------\n",
      "Initializing MySQL Database\n",
      "Set to overwrite MySQL database pubmed_obesity_2010_2012\n",
      "Database pubmed_obesity_2010_2012 created and initialized\n",
      "Saving 20 articles to database\n",
      "Finished searching, total number of articles: 20\n"
     ]
    },
    {
     "data": {
      "text/plain": [
       "MySQL Handle\n",
       "------------\n",
       "Host: localhost\n",
       "User: root\n",
       "DB:   pubmed_obesity_2010_2012\n"
      ]
     },
     "execution_count": 3,
     "metadata": {},
     "output_type": "execute_result"
    }
   ],
   "source": [
    "mysql_config = Dict(:host=>\"localhost\",\n",
    "                    :dbname=>\"pubmed_obesity_2010_2012\",\n",
    "                    :username=>\"root\",\n",
    "                    :pswd=>\"\",\n",
    "                    :overwrite=>true)\n",
    "verbose = false\n",
    "db = pubmed_search_and_save(email, search_term, max_articles,\n",
    "    save_efetch_mysql, mysql_config, verbose)"
   ]
  },
  {
   "cell_type": "markdown",
   "metadata": {},
   "source": [
    "### Access all PMIDS"
   ]
  },
  {
   "cell_type": "code",
   "execution_count": 4,
   "metadata": {},
   "outputs": [
    {
     "data": {
      "text/html": [
       "<table class=\"data-frame\"><thead><tr><th></th><th>pmid</th></tr></thead><tbody><tr><th>1</th><td>23814963</td></tr><tr><th>2</th><td>23823925</td></tr><tr><th>3</th><td>23834543</td></tr><tr><th>4</th><td>23834547</td></tr><tr><th>5</th><td>23856452</td></tr><tr><th>6</th><td>23857708</td></tr><tr><th>7</th><td>23903497</td></tr><tr><th>8</th><td>23923596</td></tr><tr><th>9</th><td>24002403</td></tr><tr><th>10</th><td>24002404</td></tr><tr><th>11</th><td>24008025</td></tr><tr><th>12</th><td>24020252</td></tr><tr><th>13</th><td>24170597</td></tr><tr><th>14</th><td>24170641</td></tr><tr><th>15</th><td>24218202</td></tr><tr><th>16</th><td>24315250</td></tr><tr><th>17</th><td>24444198</td></tr><tr><th>18</th><td>24533500</td></tr><tr><th>19</th><td>24694474</td></tr><tr><th>20</th><td>25548090</td></tr></tbody></table>"
      ],
      "text/plain": [
       "20×1 DataFrames.DataFrame\n",
       "│ Row │ pmid     │\n",
       "├─────┼──────────┤\n",
       "│ 1   │ 23814963 │\n",
       "│ 2   │ 23823925 │\n",
       "│ 3   │ 23834543 │\n",
       "│ 4   │ 23834547 │\n",
       "│ 5   │ 23856452 │\n",
       "│ 6   │ 23857708 │\n",
       "│ 7   │ 23903497 │\n",
       "│ 8   │ 23923596 │\n",
       "│ 9   │ 24002403 │\n",
       "│ 10  │ 24002404 │\n",
       "│ 11  │ 24008025 │\n",
       "│ 12  │ 24020252 │\n",
       "│ 13  │ 24170597 │\n",
       "│ 14  │ 24170641 │\n",
       "│ 15  │ 24218202 │\n",
       "│ 16  │ 24315250 │\n",
       "│ 17  │ 24444198 │\n",
       "│ 18  │ 24533500 │\n",
       "│ 19  │ 24694474 │\n",
       "│ 20  │ 25548090 │"
      ]
     },
     "metadata": {},
     "output_type": "display_data"
    }
   ],
   "source": [
    "display(all_pmids(db))"
   ]
  },
  {
   "cell_type": "markdown",
   "metadata": {},
   "source": [
    "### Explore tables\n",
    "\n",
    "* You may use the MySQL command directly or you can use BioMedQuery.DBUtils for a common interface to MySQL/SQLite"
   ]
  },
  {
   "cell_type": "code",
   "execution_count": 5,
   "metadata": {},
   "outputs": [
    {
     "name": "stdout",
     "output_type": "stream",
     "text": [
      "Any[5×3 DataFrames.DataFrame\n",
      "│ Row │ id │ forename            │ lastname           │\n",
      "├─────┼────┼─────────────────────┼────────────────────┤\n",
      "│ 1   │ 31 │ \"A\"                 │ \"Carbonell-Baeza\"  │\n",
      "│ 2   │ 88 │ \"Adelina D\"         │ \"Tsakova\"          │\n",
      "│ 3   │ 26 │ \"Alexandre Paulino\" │ \"de Faria\"         │\n",
      "│ 4   │ 48 │ \"Alvaro\"            │ \"Mathiew-Quirós\"   │\n",
      "│ 5   │ 46 │ \"Ana Maria\"         │ \"Salinas-Martínez\" │]\n",
      "Any[5×2 DataFrames.DataFrame\n",
      "│ Row │ aid │ pmid     │\n",
      "├─────┼─────┼──────────┤\n",
      "│ 1   │ 91  │ 23814963 │\n",
      "│ 2   │ 92  │ 23814963 │\n",
      "│ 3   │ 88  │ 23823925 │\n",
      "│ 4   │ 89  │ 23823925 │\n",
      "│ 5   │ 90  │ 23823925 │]\n",
      "Any[5×2 DataFrames.DataFrame\n",
      "│ Row │ id    │ name             │\n",
      "├─────┼───────┼──────────────────┤\n",
      "│ 1   │ 50153 │ \"Abdominal Fat\"  │\n",
      "│ 2   │ 54392 │ \"Adipokines\"     │\n",
      "│ 3   │ 52242 │ \"Adiponectin\"    │\n",
      "│ 4   │ 273   │ \"Adipose Tissue\" │\n",
      "│ 5   │ 50154 │ \"Adiposity\"      │]\n",
      "Any[5×2 DataFrames.DataFrame\n",
      "│ Row │ id  │ name                    │\n",
      "├─────┼─────┼─────────────────────────┤\n",
      "│ 1   │ 9   │ \"adverse effects\"       │\n",
      "│ 2   │ 31  │ \"analogs & derivatives\" │\n",
      "│ 3   │ 32  │ \"analysis\"              │\n",
      "│ 4   │ 97  │ \"blood\"                 │\n",
      "│ 5   │ 150 │ \"complications\"         │]\n",
      "Any[5×6 DataFrames.DataFrame\n",
      "│ Row │ id │ pmid     │ did   │ qid │ dmjr │ qmjr │\n",
      "├─────┼────┼──────────┼───────┼─────┼──────┼──────┤\n",
      "│ 1   │ 1  │ 25548090 │ 17677 │ NA  │ NA   │ NA   │\n",
      "│ 2   │ 2  │ 25548090 │ 368   │ NA  │ NA   │ NA   │\n",
      "│ 3   │ 3  │ 25548090 │ 369   │ NA  │ NA   │ NA   │\n",
      "│ 4   │ 4  │ 25548090 │ 5260  │ NA  │ NA   │ NA   │\n",
      "│ 5   │ 5  │ 25548090 │ 6801  │ NA  │ NA   │ NA   │]\n"
     ]
    }
   ],
   "source": [
    "tables = [\"author\", \"author2article\", \"mesh_descriptor\",\n",
    "\"mesh_qualifier\", \"mesh_heading\"]\n",
    "\n",
    "for t in tables\n",
    "    query_str = \"SELECT * FROM \"*t*\" LIMIT 5;\"\n",
    "    q = BioMedQuery.DBUtils.db_query(db, query_str)\n",
    "    println(q)\n",
    "end"
   ]
  },
  {
   "cell_type": "code",
   "execution_count": null,
   "metadata": {
    "collapsed": true
   },
   "outputs": [],
   "source": []
  }
 ],
 "metadata": {
  "kernelspec": {
   "display_name": "Julia 0.6.0",
   "language": "julia",
   "name": "julia-0.6"
  },
  "language_info": {
   "file_extension": ".jl",
   "mimetype": "application/julia",
   "name": "julia",
   "version": "0.6.0"
  }
 },
 "nbformat": 4,
 "nbformat_minor": 2
}
