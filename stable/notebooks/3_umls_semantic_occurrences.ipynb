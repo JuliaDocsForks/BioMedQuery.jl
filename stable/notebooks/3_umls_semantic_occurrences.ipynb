{
 "cells": [
  {
   "outputs": [],
   "cell_type": "markdown",
   "source": [
    "# Unified Medical Language (UMLS) Filtering"
   ],
   "metadata": {}
  },
  {
   "outputs": [],
   "cell_type": "markdown",
   "source": [
    "This example demonstrates how to obtain an occurrence matrix associated with a\n",
    "UMLS concept in a previously obtained pubmed/medline search.\n",
    "\n",
    "**Note:** This example uses the database created and updated by:\n",
    "* Examples / Pubmed Search and Save\n",
    "* Exmaples / MeSH/UMLS Map\n",
    "\n",
    "The following backends are supported for retieving the prior information:\n",
    "* MySQL\n",
    "* SQLite"
   ],
   "metadata": {}
  },
  {
   "outputs": [],
   "cell_type": "markdown",
   "source": [
    "### Set Up"
   ],
   "metadata": {}
  },
  {
   "outputs": [],
   "cell_type": "code",
   "source": [
    "using BioMedQuery.Processes\n",
    "using BioMedQuery.PubMed\n",
    "using MySQL\n",
    "using SQLite\n",
    "\n",
    "results_dir = \".\";\n",
    "umls_concept = \"Disease or Syndrome\";"
   ],
   "metadata": {},
   "execution_count": 1
  },
  {
   "outputs": [],
   "cell_type": "markdown",
   "source": [
    "### MySQL backend"
   ],
   "metadata": {}
  },
  {
   "outputs": [],
   "cell_type": "markdown",
   "source": [
    "Connecting to MySQL database that was created in pubmed_search_and_save example"
   ],
   "metadata": {}
  },
  {
   "outputs": [],
   "cell_type": "code",
   "source": [
    "host = \"127.0.0.1\";\n",
    "mysql_usr = \"root\";\n",
    "mysql_pswd = \"\";\n",
    "dbname = \"pubmed_obesity_2010_2012\";\n",
    "\n",
    "db_mysql = MySQL.connect(host, mysql_usr, mysql_pswd, db=dbname);"
   ],
   "metadata": {},
   "execution_count": 2
  },
  {
   "outputs": [],
   "cell_type": "markdown",
   "source": [
    "Getting the descriptor to index dictionary and the occurence matrix"
   ],
   "metadata": {}
  },
  {
   "outputs": [
    {
     "name": "stdout",
     "output_type": "stream",
     "text": [
      "Filter mesh query string : SELECT mesh FROM mesh2umls WHERE umls IN ( \"Disease or Syndrome\" )\n",
      "-------------------------------------------------------------\n",
      "Found 5 articles with valid descriptors\n",
      "-------------------------------------------------------------\n",
      "  1.688234 seconds (367.64 k allocations: 19.238 MiB, 2.31% gc time)\n"
     ]
    }
   ],
   "cell_type": "code",
   "source": [
    "@time labels2ind, occur = umls_semantic_occurrences(db_mysql, umls_concept);"
   ],
   "metadata": {},
   "execution_count": 3
  },
  {
   "outputs": [],
   "cell_type": "markdown",
   "source": [
    "Descriptor to Index Dictionary"
   ],
   "metadata": {}
  },
  {
   "outputs": [
    {
     "output_type": "execute_result",
     "data": {
      "text/plain": "Dict{String,Int64} with 5 entries:\n  \"Obesity\"                  => 1\n  \"Pediatric Obesity\"        => 2\n  \"Sleep Apnea, Obstructive\" => 3\n  \"Metabolic Syndrome\"       => 4\n  \"Fibromyalgia\"             => 5"
     },
     "metadata": {},
     "execution_count": 4
    }
   ],
   "cell_type": "code",
   "source": [
    "labels2ind"
   ],
   "metadata": {},
   "execution_count": 4
  },
  {
   "outputs": [],
   "cell_type": "markdown",
   "source": [
    "Output Data Matrix"
   ],
   "metadata": {}
  },
  {
   "outputs": [
    {
     "output_type": "execute_result",
     "data": {
      "text/plain": "5×5 Array{Float64,2}:\n 1.0  1.0  0.0  1.0  0.0\n 0.0  0.0  1.0  0.0  0.0\n 0.0  1.0  0.0  0.0  0.0\n 0.0  0.0  0.0  0.0  1.0\n 1.0  0.0  0.0  0.0  0.0"
     },
     "metadata": {},
     "execution_count": 5
    }
   ],
   "cell_type": "code",
   "source": [
    "full(occur)"
   ],
   "metadata": {},
   "execution_count": 5
  },
  {
   "outputs": [],
   "cell_type": "markdown",
   "source": [
    "### SQLite backend"
   ],
   "metadata": {}
  },
  {
   "outputs": [],
   "cell_type": "markdown",
   "source": [
    "Connecting to SQLite database that was created in pubmed_search_and_save example"
   ],
   "metadata": {}
  },
  {
   "outputs": [],
   "cell_type": "code",
   "source": [
    "db_path = \"$(results_dir)/pubmed_obesity_2010_2012.db\";\n",
    "db_sqlite = SQLite.DB(db_path);"
   ],
   "metadata": {},
   "execution_count": 6
  },
  {
   "outputs": [],
   "cell_type": "markdown",
   "source": [
    "Getting the descriptor to index dictionary and occurence matrix"
   ],
   "metadata": {}
  },
  {
   "outputs": [
    {
     "name": "stdout",
     "output_type": "stream",
     "text": [
      "Filter mesh query string : SELECT mesh FROM mesh2umls WHERE umls IN ( \"Disease or Syndrome\" )\n",
      "-------------------------------------------------------------\n",
      "Found 5 articles with valid descriptors\n",
      "-------------------------------------------------------------\n",
      "  0.595807 seconds (104.84 k allocations: 5.471 MiB)\n"
     ]
    }
   ],
   "cell_type": "code",
   "source": [
    "@time labels2ind, occur = umls_semantic_occurrences(db_sqlite, umls_concept);"
   ],
   "metadata": {},
   "execution_count": 7
  },
  {
   "outputs": [],
   "cell_type": "markdown",
   "source": [
    "Descriptor to Index Dictionary"
   ],
   "metadata": {}
  },
  {
   "outputs": [
    {
     "output_type": "execute_result",
     "data": {
      "text/plain": "Dict{String,Int64} with 5 entries:\n  \"Obesity\"                  => 1\n  \"Pediatric Obesity\"        => 2\n  \"Sleep Apnea, Obstructive\" => 3\n  \"Metabolic Syndrome\"       => 4\n  \"Fibromyalgia\"             => 5"
     },
     "metadata": {},
     "execution_count": 8
    }
   ],
   "cell_type": "code",
   "source": [
    "labels2ind"
   ],
   "metadata": {},
   "execution_count": 8
  },
  {
   "outputs": [],
   "cell_type": "markdown",
   "source": [
    "Output Data Matrix"
   ],
   "metadata": {}
  },
  {
   "outputs": [
    {
     "output_type": "execute_result",
     "data": {
      "text/plain": "5×5 Array{Float64,2}:\n 1.0  1.0  0.0  1.0  0.0\n 0.0  0.0  1.0  0.0  0.0\n 0.0  1.0  0.0  0.0  0.0\n 0.0  0.0  0.0  0.0  1.0\n 1.0  0.0  0.0  0.0  0.0"
     },
     "metadata": {},
     "execution_count": 9
    }
   ],
   "cell_type": "code",
   "source": [
    "full(occur)"
   ],
   "metadata": {},
   "execution_count": 9
  },
  {
   "outputs": [],
   "cell_type": "markdown",
   "source": [
    "*This notebook was generated using [Literate.jl](https://github.com/fredrikekre/Literate.jl).*"
   ],
   "metadata": {}
  }
 ],
 "nbformat_minor": 3,
 "metadata": {
  "language_info": {
   "file_extension": ".jl",
   "mimetype": "application/julia",
   "name": "julia",
   "version": "0.6.4"
  },
  "kernelspec": {
   "name": "julia-0.6",
   "display_name": "Julia 0.6.4",
   "language": "julia"
  }
 },
 "nbformat": 4
}
